{
 "cells": [
  {
   "cell_type": "markdown",
   "id": "3a005205-88b6-450a-93a2-6697fd061b49",
   "metadata": {},
   "source": [
    "Basic If-Else Statements:"
   ]
  },
  {
   "cell_type": "code",
   "execution_count": 3,
   "id": "3284874d-e4d3-4847-863c-2c3b872794dd",
   "metadata": {},
   "outputs": [
    {
     "name": "stdin",
     "output_type": "stream",
     "text": [
      "Enter the number 19\n"
     ]
    },
    {
     "name": "stdout",
     "output_type": "stream",
     "text": [
      "19.0 is Positive\n"
     ]
    }
   ],
   "source": [
    "#Q1]\n",
    "num = float(input(\"Enter the number\"))\n",
    "#checking the condition for num\n",
    "if num>0:\n",
    "    print(f\"{num} is Positive\")\n",
    "else:\n",
    "    print(f\"{num} is Negative\")"
   ]
  },
  {
   "cell_type": "code",
   "execution_count": 6,
   "id": "dea01b4b-46dc-4985-ab16-70a603cb4cb9",
   "metadata": {},
   "outputs": [
    {
     "name": "stdin",
     "output_type": "stream",
     "text": [
      "Enter your age 19\n"
     ]
    },
    {
     "name": "stdout",
     "output_type": "stream",
     "text": [
      "Eligible to vote\n"
     ]
    }
   ],
   "source": [
    "#Q2]\n",
    "age = int(input(\"Enter your age\"))\n",
    "#checking the condition of age to vote\n",
    "if 0<age<18:\n",
    "    print(\"Ineligible to vote\")\n",
    "if 18<=age<120:\n",
    "    print(\"Eligible to vote\")\n",
    "else:\n",
    "    print(\"Enter valid age\")"
   ]
  },
  {
   "cell_type": "code",
   "execution_count": 2,
   "id": "9f8d45b0-f294-4439-b0c4-75c59cacbe5c",
   "metadata": {},
   "outputs": [
    {
     "name": "stdin",
     "output_type": "stream",
     "text": [
      "Enter the number 12\n",
      "Enter the number 13\n"
     ]
    },
    {
     "name": "stdout",
     "output_type": "stream",
     "text": [
      "13.0 is greater than 12.0\n"
     ]
    }
   ],
   "source": [
    "#Q3]\n",
    "#taking user input of num1, num2\n",
    "num1, num2 = float(input(\"Enter the number\")), float(input(\"Enter the number\"))\n",
    "#comparing the numbers to find the greater number\n",
    "if num1>num2:\n",
    "    print(f\"{num1} is greater than {num2}\")\n",
    "else:\n",
    "    print(f\"{num2} is greater than {num1}\")\n"
   ]
  },
  {
   "cell_type": "code",
   "execution_count": 9,
   "id": "714f44dd-fbab-4ea8-acdc-8bb9878dbebb",
   "metadata": {},
   "outputs": [
    {
     "name": "stdin",
     "output_type": "stream",
     "text": [
      "Enter the year 2024\n"
     ]
    },
    {
     "name": "stdout",
     "output_type": "stream",
     "text": [
      "2024 is leap year\n"
     ]
    }
   ],
   "source": [
    "#Q4]\n",
    "#taking user input for the year\n",
    "year = int(input(\"Enter the year\"))\n",
    "#checking if the year entered is valid or not\n",
    "if year>0:\n",
    "    #checking the condition for leap year\n",
    "    if year%4==0 and (year%100!=0 or year%400==0):\n",
    "        print(f\"{year} is leap year\")\n",
    "    else:\n",
    "        print(f\"{year} is not a leap year\")\n",
    "else:\n",
    "    print(\"Enter valid year\")"
   ]
  },
  {
   "cell_type": "code",
   "execution_count": 2,
   "id": "733773e9-9aec-4c55-b6f2-a49f8a0f2ce2",
   "metadata": {},
   "outputs": [
    {
     "name": "stdin",
     "output_type": "stream",
     "text": [
      "Enter the character A\n"
     ]
    },
    {
     "name": "stdout",
     "output_type": "stream",
     "text": [
      "'A' is an vowel\n"
     ]
    }
   ],
   "source": [
    "#Q5]\n",
    "#taking user input of character\n",
    "vowels_list = ['a', 'e', 'i', 'o', 'u']\n",
    "char = input(\"Enter the character\")\n",
    "#checking if the user entered string or character and it is alphabet\n",
    "if len(char) == 1 and char.isalpha():\n",
    "    #checking if char is vowel or consonant\n",
    "    if char.lower() in vowels_list:\n",
    "        print(f\"'{char}' is an vowel\")\n",
    "    else:\n",
    "        print(f\"{char} is a consonant\")\n",
    "else:\n",
    "    print(\"Enter valid character alphabet\")"
   ]
  },
  {
   "cell_type": "code",
   "execution_count": 1,
   "id": "8f7f8ab6-a247-4ca2-89b1-2c1fa43d68e2",
   "metadata": {},
   "outputs": [
    {
     "name": "stdin",
     "output_type": "stream",
     "text": [
      "Enter the number 12\n"
     ]
    },
    {
     "name": "stdout",
     "output_type": "stream",
     "text": [
      "12 is even\n"
     ]
    }
   ],
   "source": [
    "#Q6]\n",
    "#taking user input of number\n",
    "num = int(input(\"Enter the number\"))\n",
    "#checking the condition for odd,even \n",
    "if num%2==0:\n",
    "    print(f\"{num} is even\")\n",
    "else:\n",
    "    print(f\"{num} is odd\")\n"
   ]
  },
  {
   "cell_type": "code",
   "execution_count": 17,
   "id": "1d5c108f-8c01-4cd6-a223-ae3cbabe556b",
   "metadata": {},
   "outputs": [
    {
     "name": "stdin",
     "output_type": "stream",
     "text": [
      "Enter the number -19\n"
     ]
    },
    {
     "name": "stdout",
     "output_type": "stream",
     "text": [
      "Absolute of -19.0 :\n",
      "19.0\n"
     ]
    }
   ],
   "source": [
    "#Q7]\n",
    "#taking user input of number\n",
    "num = float(input(\"Enter the number\"))\n",
    "#checking if entered number is negative or positive.\n",
    "#converting it to positive accordingly\n",
    "if num<0:\n",
    "    print(f\"Absolute of {num} :\\n{-num}\")\n",
    "else:\n",
    "    print(f\"Absolute of {num} :\\n{num}\")"
   ]
  },
  {
   "cell_type": "code",
   "execution_count": 20,
   "id": "c7453a00-b07e-46a2-9c1c-e458edbee8df",
   "metadata": {},
   "outputs": [
    {
     "name": "stdin",
     "output_type": "stream",
     "text": [
      "Enter the number 1\n",
      "Enter the number 9\n",
      "Enter the number 0\n"
     ]
    },
    {
     "name": "stdout",
     "output_type": "stream",
     "text": [
      "9.0 is greatest\n"
     ]
    }
   ],
   "source": [
    "#Q8]\n",
    "#taking user of three numbers\n",
    "num1, num2, num3 = float(input(\"Enter the number\")), float(input(\"Enter the number\")), float(input(\"Enter the number\"))\n",
    "#checking the conditions for greatest number is each if\n",
    "if num1>num2:\n",
    "    if num1>num3:\n",
    "        print(f\"{num1} is greatest\")\n",
    "    else:\n",
    "        print(f\"{num3} is greatest\")\n",
    "else:\n",
    "    if num2>num3:\n",
    "        print(f\"{num2} is greatest\")\n",
    "    else:\n",
    "        print(f\"{num3} is greatest\")\n"
   ]
  },
  {
   "cell_type": "code",
   "execution_count": 23,
   "id": "2c7dd189-5889-49c2-aa82-ef8c7a9cf057",
   "metadata": {},
   "outputs": [
    {
     "name": "stdin",
     "output_type": "stream",
     "text": [
      "Enter the string nitin\n"
     ]
    },
    {
     "name": "stdout",
     "output_type": "stream",
     "text": [
      "'nitin' is palindrome\n"
     ]
    }
   ],
   "source": [
    "#Q9]\n",
    "#taking iser input of string\n",
    "string = input(\"Enter the string\")\n",
    "if string == string[::-1]:\n",
    "    print(f\"'{string}' is palindrome\")\n",
    "else:\n",
    "    print(f\"'{string}' is not palindrome\")\n",
    "    "
   ]
  },
  {
   "cell_type": "code",
   "execution_count": 4,
   "id": "b06b4527-3460-45ba-8716-7035a2f766a6",
   "metadata": {},
   "outputs": [
    {
     "name": "stdin",
     "output_type": "stream",
     "text": [
      "Enter the percentage scored 30\n"
     ]
    },
    {
     "name": "stdout",
     "output_type": "stream",
     "text": [
      "Fail\n"
     ]
    }
   ],
   "source": [
    "#Q10]\n",
    "#taking input of score from user\n",
    "score = float(input(\"Enter the percentage scored\"))\n",
    "#checking if the score entered is valid or not\n",
    "if 0<=score<=100:\n",
    "    if score>=90:\n",
    "        print(\"A+\")\n",
    "    else:\n",
    "        if score>=80:\n",
    "            print(\"A\")\n",
    "        else:\n",
    "            if score>=70:\n",
    "                print(\"B+\")\n",
    "            else:\n",
    "                if score>=60:\n",
    "                    print(\"B\")\n",
    "                else:\n",
    "                    if score>=50:\n",
    "                        print(\"C+\")\n",
    "                    else:\n",
    "                        if score>=35:\n",
    "                            print(\"C\")\n",
    "                        else:\n",
    "                            print(\"Fail\")\n",
    "else:\n",
    "    print(\"Enter valid score\")"
   ]
  },
  {
   "cell_type": "markdown",
   "id": "4c77a99c-718d-47d0-ad3c-baaafb7a1bdf",
   "metadata": {},
   "source": [
    "Nested If-Else Statements:"
   ]
  },
  {
   "cell_type": "code",
   "execution_count": 6,
   "id": "21770464-a724-4eae-89fd-14d8ff7e6564",
   "metadata": {},
   "outputs": [
    {
     "name": "stdin",
     "output_type": "stream",
     "text": [
      "Enter the number 12\n",
      "Enter the number 1000\n",
      "Enter the number 2\n"
     ]
    },
    {
     "name": "stdout",
     "output_type": "stream",
     "text": [
      "1000.0 is greatest\n"
     ]
    }
   ],
   "source": [
    "#Q11]\n",
    "#taking input from the user\n",
    "num1,num2,num3 = float(input(\"Enter the number\")), float(input(\"Enter the number\")), float(input(\"Enter the number\"))\n",
    "#comparing the numbers\n",
    "if num1>num2:\n",
    "    if num1>num3:\n",
    "        print(f\"{num1} is greatest\")\n",
    "    else:\n",
    "        print(f\"{num3} is greatest\")\n",
    "else:\n",
    "    if num2>num3:\n",
    "        print(f\"{num2} is greatest\")\n",
    "    else:\n",
    "        print(f\"{num3} is greatest\")\n"
   ]
  },
  {
   "cell_type": "code",
   "execution_count": 3,
   "id": "2dddb6e4-a90b-4b1f-8698-82b44556ccc3",
   "metadata": {},
   "outputs": [
    {
     "name": "stdin",
     "output_type": "stream",
     "text": [
      "Enter the number 2\n",
      "Enter the number 3\n",
      "Enter the number 2\n"
     ]
    },
    {
     "name": "stdout",
     "output_type": "stream",
     "text": [
      "Isosceles Triangle\n"
     ]
    }
   ],
   "source": [
    "#Q12]\n",
    "#taking input from the user\n",
    "s1,s2,s3 = float(input(\"Enter the number\")), float(input(\"Enter the number\")), float(input(\"Enter the number\"))\n",
    "#comparing the sides to find out which triangle is it and checking the validity of each side\n",
    "if s1>0 and s2>0 and s3>0:\n",
    "    if s1==s2==s3 :\n",
    "        print(\"Equilateral Triangle\")\n",
    "    else:\n",
    "        if s1!=s2!=s3 and s1!=s3!=s2 :\n",
    "            print(\"Scalene Triangle\")\n",
    "        else:\n",
    "            print(\"Isosceles Triangle\")\n",
    "else:\n",
    "    print(\"Enter valid sides\")\n",
    "\n"
   ]
  },
  {
   "cell_type": "code",
   "execution_count": null,
   "id": "0e027bb3-ea83-438b-b9fd-3258c5576197",
   "metadata": {},
   "outputs": [],
   "source": [
    "#Q13]\n",
    "year = int(input(\"Enter the year: \"))\n",
    "\n",
    "if year > 0:\n",
    "    # Check for leap year\n",
    "    if year % 4 == 0 and (year % 100 != 0 or year % 400 == 0):\n",
    "        # Check if it's a century year\n",
    "        if year % 100 == 0:\n",
    "            # If it's a century year, it's a leap year only if it's divisible by 400\n",
    "            if year % 400 == 0:\n",
    "                print(f\"{year} is a leap year\")\n",
    "            else:\n",
    "                print(f\"{year} is not a leap year\")\n",
    "        else:\n",
    "            print(f\"{year} is a leap year\")\n",
    "    else:\n",
    "        print(f\"{year} is not a leap year\")\n",
    "else:\n",
    "    print(\"Enter a valid year\")\n"
   ]
  },
  {
   "cell_type": "code",
   "execution_count": 13,
   "id": "65ad5d50-1f4d-4ffe-9606-fbde0964aa6a",
   "metadata": {},
   "outputs": [
    {
     "name": "stdin",
     "output_type": "stream",
     "text": [
      "Enter the number 0\n"
     ]
    },
    {
     "name": "stdout",
     "output_type": "stream",
     "text": [
      "0.0 is Zero\n"
     ]
    }
   ],
   "source": [
    "#Q14]\n",
    "num = float(input(\"Enter the number\"))\n",
    "#checking the condition for num\n",
    "if num>0:\n",
    "    print(f\"{num} is Positive\")\n",
    "else:\n",
    "    if num==0:\n",
    "        print(f\"{num} is Zero\")\n",
    "    else:\n",
    "        print(f\"{num} is Negative\")"
   ]
  },
  {
   "cell_type": "code",
   "execution_count": 14,
   "id": "8f51b07e-06de-4035-ae53-c6710df08eb9",
   "metadata": {},
   "outputs": [
    {
     "name": "stdin",
     "output_type": "stream",
     "text": [
      "Enter age 15\n"
     ]
    },
    {
     "name": "stdout",
     "output_type": "stream",
     "text": [
      "Teenager\n"
     ]
    }
   ],
   "source": [
    "#Q15]\n",
    "#taking input from user\n",
    "age = int(input(\"Enter age\"))\n",
    "#checking the validity of age and if the person is teenager\n",
    "if 0<age<=120:\n",
    "    if 13<age<=19:\n",
    "        print(\"Teenager\")\n",
    "    else:\n",
    "        print(\"Not a Teenager\")\n",
    "else:\n",
    "    print(\"Enter valid age\")"
   ]
  },
  {
   "cell_type": "code",
   "execution_count": 17,
   "id": "edf572e1-153a-4ed1-9410-390a99d09339",
   "metadata": {},
   "outputs": [
    {
     "name": "stdin",
     "output_type": "stream",
     "text": [
      "Enter the angle 90\n"
     ]
    },
    {
     "name": "stdout",
     "output_type": "stream",
     "text": [
      "Right Angle\n"
     ]
    }
   ],
   "source": [
    "#Q16]\n",
    "#taking user input\n",
    "angle = float(input(\"Enter the angle\"))\n",
    "#checking the conditions for each angles\n",
    "if 0<angle<90:\n",
    "    print(\"Acute Angle\")\n",
    "else:\n",
    "    if angle==90:\n",
    "        print(\"Right Angle\")\n",
    "    else:\n",
    "        if 90<angle<180:\n",
    "            print(\"Obtuse Angle\")\n",
    "        else:\n",
    "            print('angle measures greater than 180 degrees, it is not possible in standard Euclidean geometry, as angles are typically measured from 0 to 180 degrees. In Euclidean geometry, an angle greater than 180 degrees is considered \"reflex\" or \"reentrant\", meaning it extends beyond a straight line.')\n",
    "            "
   ]
  },
  {
   "cell_type": "code",
   "execution_count": 18,
   "id": "c67e2941-ff10-4ebe-a70f-13eaa5729e77",
   "metadata": {},
   "outputs": [
    {
     "data": {
      "text/plain": [
       "['Sunday', 'Monday', 'Tuesday', 'Wednesday', 'Thursday', 'Friday', 'Saturda']"
      ]
     },
     "execution_count": 18,
     "metadata": {},
     "output_type": "execute_result"
    }
   ],
   "source": [
    "#Q17]\n",
    "'Sunday Monday Tuesday Wednesday Thursday Friday Saturda'.split()"
   ]
  },
  {
   "cell_type": "code",
   "execution_count": 32,
   "id": "f536c1f5-ef89-4e4c-9591-9a1837eeaefe",
   "metadata": {},
   "outputs": [
    {
     "name": "stdin",
     "output_type": "stream",
     "text": [
      "Enter the day 2\n"
     ]
    },
    {
     "name": "stdout",
     "output_type": "stream",
     "text": [
      "Monday\n"
     ]
    }
   ],
   "source": [
    "#Q18]\n",
    "#taking user input\n",
    "day = int(input(\"Enter the day\"))\n",
    "week = ['Sunday', 'Monday', 'Tuesday', 'Wednesday', 'Thursday', 'Friday', 'Saturday']\n",
    "#checking the validity of the entered day and printing the day accordingly\n",
    "if 0<day<7:\n",
    "    print(week[day-1])\n",
    "else:\n",
    "    if day<0:\n",
    "        print(\"Enter valid day\")\n",
    "    else:\n",
    "        #finding %7 as 1 week contains 7 days adn entered day is greater than 7\n",
    "        day %= 7\n",
    "        print(week[day])\n"
   ]
  },
  {
   "cell_type": "code",
   "execution_count": 38,
   "id": "63df2719-8c38-48d8-a1d1-784d0d1cd292",
   "metadata": {},
   "outputs": [
    {
     "name": "stdin",
     "output_type": "stream",
     "text": [
      "Enter the year 2024\n"
     ]
    },
    {
     "name": "stdout",
     "output_type": "stream",
     "text": [
      "2024 is leap year\n"
     ]
    }
   ],
   "source": [
    "#Q19]\n",
    "#taking user input for the year\n",
    "year = int(input(\"Enter the year\"))\n",
    "#checking if the year entered is valid or not\n",
    "if year>0:\n",
    "    #checking the condition for leap year\n",
    "    if year%4==0 and (year%100!=0 or year%400==0):\n",
    "        print(f\"{year} is leap year\")\n",
    "    else:\n",
    "        print(f\"{year} is not a leap year\")\n",
    "else:\n",
    "    print(\"Enter valid year\")"
   ]
  },
  {
   "cell_type": "code",
   "execution_count": 39,
   "id": "35169ce2-5a71-47fc-b2e9-22e79179bc65",
   "metadata": {},
   "outputs": [
    {
     "name": "stdin",
     "output_type": "stream",
     "text": [
      "Enter the number 3\n"
     ]
    },
    {
     "name": "stdout",
     "output_type": "stream",
     "text": [
      "Prime number\n"
     ]
    }
   ],
   "source": [
    "#Q20]\n",
    "#taking user input\n",
    "num = int(input(\"Enter the number\"))\n",
    "counter = 0\n",
    "#using for loop to do divisbilty check & increment the counter\n",
    "for i in range(1,num+1):\n",
    "    if num%i==0:\n",
    "        counter += 1\n",
    "#checking the next divisibilty test for prime number\n",
    "else:\n",
    "    if counter==2:\n",
    "        print(\"Prime number\")\n",
    "    else:\n",
    "        print(\"Not a prime number\")"
   ]
  },
  {
   "cell_type": "markdown",
   "id": "7eecbb98-55b4-4328-8e6b-4696b3e18ac0",
   "metadata": {},
   "source": [
    "Elif Statements:"
   ]
  },
  {
   "cell_type": "code",
   "execution_count": 1,
   "id": "2c8a046d-e546-4552-9418-6b2e7c7e78c4",
   "metadata": {},
   "outputs": [
    {
     "name": "stdin",
     "output_type": "stream",
     "text": [
      "Enter the percentage scored 90\n"
     ]
    },
    {
     "name": "stdout",
     "output_type": "stream",
     "text": [
      "A+\n"
     ]
    }
   ],
   "source": [
    "#Q21]\n",
    "#taking input of score from user\n",
    "score = float(input(\"Enter the percentage scored\"))\n",
    "#checking if the score entered is valid or not\n",
    "if 0<=score<=100:\n",
    "    if score>=90:\n",
    "        print(\"A+\")\n",
    "    elif score>=80:\n",
    "        print(\"A\")\n",
    "    elif score>=70:\n",
    "        print(\"B+\")\n",
    "    elif score>=60:\n",
    "        print(\"B\")\n",
    "    elif score>=50:\n",
    "        print(\"C+\")\n",
    "    elif score>=35:\n",
    "        print(\"C\")\n",
    "    else:\n",
    "        print(\"Fail\")\n",
    "else:\n",
    "    print(\"Enter valid score\")"
   ]
  },
  {
   "cell_type": "code",
   "execution_count": 2,
   "id": "0f19193e-46bd-440d-9769-d24bdc9b9c98",
   "metadata": {},
   "outputs": [
    {
     "name": "stdin",
     "output_type": "stream",
     "text": [
      "Enter the angle 35\n"
     ]
    },
    {
     "name": "stdout",
     "output_type": "stream",
     "text": [
      "Acute Angle\n"
     ]
    }
   ],
   "source": [
    "#Q22]\n",
    "#taking user input\n",
    "angle = float(input(\"Enter the angle\"))\n",
    "#checking the conditions for each angles\n",
    "if 0<angle<90:\n",
    "    print(\"Acute Angle\")\n",
    "elif angle==90:\n",
    "    print(\"Right Angle\")\n",
    "elif 90<angle<180:\n",
    "    print(\"Obtuse Angle\")\n",
    "else:\n",
    "    print('angle measures greater than 180 degrees, it is not possible in standard Euclidean geometry, as angles are typically measured from 0 to 180 degrees. In Euclidean geometry, an angle greater than 180 degrees is considered \"reflex\" or \"reentrant\", meaning it extends beyond a straight line.')\n",
    "            "
   ]
  },
  {
   "cell_type": "code",
   "execution_count": 5,
   "id": "c85f497e-c9e2-49a9-a6a8-9d9ab1596a22",
   "metadata": {},
   "outputs": [
    {
     "name": "stdin",
     "output_type": "stream",
     "text": [
      "Enter the height in meters 1.2\n",
      "Enter the height in meters 82\n"
     ]
    },
    {
     "name": "stdout",
     "output_type": "stream",
     "text": [
      "Obese\n"
     ]
    }
   ],
   "source": [
    "#Q23]\\weight = float(input(\"Enter you weight in kg\"))\n",
    "height = float(input(\"Enter the height in meters\"))\n",
    "weight = float(input(\"Enter the height in meters\"))\n",
    "body_mass_index = weight/height\n",
    "#checking the conditions for bmi\n",
    "if body_mass_index<18.5:\n",
    "    print(\"Underweight\")\n",
    "elif 18.5<=body_mass_index<=24.9:\n",
    "    print(\"Normal weight\")\n",
    "elif 25<=body_mass_index<=29.9:\n",
    "    print(\"Overweight\")\n",
    "elif body_mass_index>=30:\n",
    "    print(\"Obese\")\n",
    "else:\n",
    "    print(\"Enter valid weight and height\")\n"
   ]
  },
  {
   "cell_type": "code",
   "execution_count": 8,
   "id": "e6164ab2-723d-4264-97ff-01cc4c682119",
   "metadata": {},
   "outputs": [
    {
     "name": "stdin",
     "output_type": "stream",
     "text": [
      "Enter ther number -2\n"
     ]
    },
    {
     "name": "stdout",
     "output_type": "stream",
     "text": [
      "-2.0 is Negative\n"
     ]
    }
   ],
   "source": [
    "#Q24]\n",
    "#taking user input of the integer\n",
    "num = float(input(\"Enter ther number\"))\n",
    "#checking the condtions for positive negative and zero\n",
    "if num>0:\n",
    "    print(f\"{num} is Positive\")\n",
    "if num<0:\n",
    "    print(f\"{num} is Negative\")\n",
    "else:\n",
    "    print(f\"{num} is Zero\")"
   ]
  },
  {
   "cell_type": "code",
   "execution_count": 7,
   "id": "0d78dbeb-17b1-436f-a750-6f539c22ca0b",
   "metadata": {},
   "outputs": [
    {
     "name": "stdin",
     "output_type": "stream",
     "text": [
      "Enter the character Y\n"
     ]
    },
    {
     "name": "stdout",
     "output_type": "stream",
     "text": [
      "'Y' is in uppercase\n"
     ]
    }
   ],
   "source": [
    "#Q25]\n",
    "char = input(\"Enter the character\")\n",
    "#checking if the user entered string or character \n",
    "if len(char) == 1:\n",
    "    #checking if char is upperlower or neither\n",
    "    if char.isupper():\n",
    "        print(f\"'{char}' is in uppercase\")\n",
    "    elif char.islower():\n",
    "        print(f\"{char} is a lowercase\")\n",
    "    else:\n",
    "        print(f\"{char} is neither\")\n",
    "else:\n",
    "    print(\"Enter valid character alphabet\")\n",
    "    "
   ]
  },
  {
   "cell_type": "code",
   "execution_count": 9,
   "id": "f834bae6-4359-4aad-8166-cae2e1073094",
   "metadata": {},
   "outputs": [
    {
     "name": "stdin",
     "output_type": "stream",
     "text": [
      "Enter the totale purchase amount 10000\n"
     ]
    },
    {
     "name": "stdout",
     "output_type": "stream",
     "text": [
      "Purchase Amount : 10000.0\n",
      "Dicount Amount : 1000.0\n"
     ]
    }
   ],
   "source": [
    "#Q26]\n",
    "purchase_amount = float(input(\"Enter the totale purchase amount\"))\n",
    "print(f\"Purchase Amount : {purchase_amount}\")\n",
    "#checking the condtions for discount and calulating it\n",
    "if 0<purchase_amount < 5000:\n",
    "    discount_amount = 0.05*purchase_amount\n",
    "    print(f\"Dicount Amount : {discount_amount}\")\n",
    "elif purchase_amount <= 10000:\n",
    "    discount_amount = 0.1*purchase_amount\n",
    "    print(f\"Dicount Amount : {discount_amount}\")\n",
    "elif purchase_amount > 10000:\n",
    "    discount_amount = 0.15*purchase_amount\n",
    "    print(f\"Dicount Amount : {discount_amount}\")\n",
    "else:\n",
    "    print(f\"Dicount Amount : {0}\")\n",
    "            "
   ]
  },
  {
   "cell_type": "code",
   "execution_count": 20,
   "id": "08f03a34-7e15-4f4f-a9dd-4ae19a00792a",
   "metadata": {},
   "outputs": [
    {
     "name": "stdin",
     "output_type": "stream",
     "text": [
      "Enter the units consumed 250\n"
     ]
    },
    {
     "name": "stdout",
     "output_type": "stream",
     "text": [
      "Units Consumed : 250.0 \n",
      "Bill : 3500.0\n"
     ]
    }
   ],
   "source": [
    "#Q27]\n",
    "unit = float(input(\"Enter the units consumed\"))\n",
    "amount = 0\n",
    "#checking the conditions for units and calculating amount\n",
    "if 1<=unit<100:\n",
    "    amount += unit*10\n",
    "elif 100<=unit<200:\n",
    "    amount += 100*10 +(unit-100)*15\n",
    "elif 200<=unit<300:\n",
    "    amount += 100*10 + 100*15 + (unit-200)*20\n",
    "else:\n",
    "    amount += 100*10 + 100*15 + (unit-300)*20 + (unit-100)*25\n",
    "print(f\"Units Consumed : {unit} \\nBill : {amount}\")\n",
    "    "
   ]
  },
  {
   "cell_type": "code",
   "execution_count": 21,
   "id": "23ef573c-2316-4616-b995-f54f1a92e630",
   "metadata": {},
   "outputs": [
    {
     "name": "stdin",
     "output_type": "stream",
     "text": [
      "Enter the angle 1 30\n",
      "Enter the angle 2 60\n",
      "Enter the angle 3 30\n",
      "Enter the angle 4 60\n",
      "Enter the side 1 1\n",
      "Enter the side 2 2\n",
      "Enter the side 3 3\n",
      "Enter the side 4 4\n"
     ]
    },
    {
     "name": "stdout",
     "output_type": "stream",
     "text": [
      "Parallelogram\n"
     ]
    }
   ],
   "source": [
    "#Q28]\n",
    "angle1,angle2,angle3,angle4 = [int(input(f\"Enter the angle {i}\")) for i in range(1,5)]\n",
    "side1,side2,side3,side4 = [float(input(f\"Enter the side {i}\")) for i in range(1,5)]\n",
    "#checkig the conditions to find the quadrilateral\n",
    "if angle1==angle2==angle3==angle4==90 and side1==side2==side3==side4:\n",
    "    print(\"Square\")\n",
    "elif angle1==angle2==angle3==angle4==90:\n",
    "    print(\"Rectangle\")\n",
    "elif side1==side2==side3==side4:\n",
    "    print(\"Rhombus\")\n",
    "elif side1==side3 or side2==side4:\n",
    "    print(\"Trapezoid\")\n",
    "elif angle1==angle3 and angle2==angle4:\n",
    "    print(\"Parallelogram\")\n",
    "    "
   ]
  },
  {
   "cell_type": "code",
   "execution_count": 22,
   "id": "4b60194d-3679-4940-baf7-383eac03c969",
   "metadata": {},
   "outputs": [
    {
     "name": "stdin",
     "output_type": "stream",
     "text": [
      "Enter the month august\n"
     ]
    },
    {
     "name": "stdout",
     "output_type": "stream",
     "text": [
      "Rainy\n"
     ]
    }
   ],
   "source": [
    "#Q29]\n",
    "months_in_year = [\n",
    "    \"January\", \"February\", \"March\", \"April\", \"May\", \"June\",\n",
    "    \"July\", \"August\", \"September\", \"October\", \"November\", \"December\"\n",
    "]\n",
    "\n",
    "month = input(\"Enter the month\").title()\n",
    "#checking the conditions for season\n",
    "if month in months_in_year:\n",
    "    if month in months_in_year[2:5]:\n",
    "        print(\"Summer\")\n",
    "    elif month in months_in_year[5:8]:\n",
    "        print(\"Rainy\")\n",
    "    elif month in months_in_year[8:11]:\n",
    "        print(\"Autumn\")\n",
    "    else:\n",
    "        print(\"Winter\")\n",
    "else:\n",
    "    print(\"Enter valid month\")\n"
   ]
  },
  {
   "cell_type": "code",
   "execution_count": 25,
   "id": "62f44738-fa5c-4abe-b1c6-094c4cad879a",
   "metadata": {},
   "outputs": [
    {
     "name": "stdin",
     "output_type": "stream",
     "text": [
      "Enter the year 2024\n",
      "Enter the month number you want days of 2\n"
     ]
    },
    {
     "name": "stdout",
     "output_type": "stream",
     "text": [
      "2024 is leap year\n",
      "29 Days\n"
     ]
    }
   ],
   "source": [
    "#Q30]\n",
    "year = int(input(\"Enter the year\"))\n",
    "month = int(input(\"Enter the month number you want days of\"))\n",
    "#checking if the year entered is valid or not\n",
    "year_leap = False\n",
    "if year>0:\n",
    "    #checking the condition for leap year\n",
    "    if year%4==0 and (year%100!=0 or year%400==0):\n",
    "        year_leap = True\n",
    "        print(f\"{year} is leap year\")\n",
    "    else:\n",
    "        print(f\"{year} is not a leap year\")\n",
    "else:\n",
    "    print(\"Enter valid year\")\n",
    "\n",
    "if month in range(1,13):\n",
    "    if month==2 and year_leap==True:\n",
    "        print(\"29 Days\")\n",
    "    elif month==2 and year_leap==False:\n",
    "        print(\"28 Days\")\n",
    "    elif month%2==0 and month in range(1,8):\n",
    "        print(\"30 Days\")\n",
    "    elif month%2!=0 and month in range(1,8):\n",
    "        print(\"31 Days\")\n",
    "    elif month%2==0 and month in range(8,13):\n",
    "        print(\"31 Days\")\n",
    "    elif month%2!=0 and month in range(8,13):\n",
    "        print(\"30 Days\")\n",
    "else:\n",
    "    print(\"Enter valid month number\")"
   ]
  },
  {
   "cell_type": "markdown",
   "id": "edd4b998-26cd-43ba-bc40-a8abfca77d60",
   "metadata": {},
   "source": [
    "Basic Level:"
   ]
  },
  {
   "cell_type": "code",
   "execution_count": 26,
   "id": "b01951f5-5f7b-493d-aa21-31f4ccd6b681",
   "metadata": {},
   "outputs": [
    {
     "name": "stdin",
     "output_type": "stream",
     "text": [
      "Enter the number 1\n"
     ]
    },
    {
     "name": "stdout",
     "output_type": "stream",
     "text": [
      "1.0 is Positive\n"
     ]
    }
   ],
   "source": [
    "#Q1]\n",
    "num = float(input(\"Enter the number\"))\n",
    "#checking the condition for num\n",
    "if num>0:\n",
    "    print(f\"{num} is Positive\")\n",
    "else:\n",
    "    if num==0:\n",
    "        print(f\"{num} is Zero\")\n",
    "    else:\n",
    "        print(f\"{num} is Negative\")"
   ]
  },
  {
   "cell_type": "code",
   "execution_count": 27,
   "id": "6f5f0321-3edd-410a-8e73-76f6b25044f6",
   "metadata": {},
   "outputs": [
    {
     "name": "stdin",
     "output_type": "stream",
     "text": [
      "Enter your age 18\n"
     ]
    },
    {
     "name": "stdout",
     "output_type": "stream",
     "text": [
      "Eligible to vote\n"
     ]
    }
   ],
   "source": [
    "#Q2]\n",
    "age = int(input(\"Enter your age\"))\n",
    "#checking the condition of age to vote\n",
    "if 0<age<18:\n",
    "    print(\"Ineligible to vote\")\n",
    "if 18<=age<120:\n",
    "    print(\"Eligible to vote\")\n",
    "else:\n",
    "    print(\"Enter valid age\")"
   ]
  },
  {
   "cell_type": "code",
   "execution_count": 28,
   "id": "8aaaa5e7-e987-47db-ab7b-c0bcd357cdd6",
   "metadata": {},
   "outputs": [
    {
     "name": "stdin",
     "output_type": "stream",
     "text": [
      "Enter the number 3\n",
      "Enter the number 9\n"
     ]
    },
    {
     "name": "stdout",
     "output_type": "stream",
     "text": [
      "9.0 is greater than 3.0\n"
     ]
    }
   ],
   "source": [
    "#Q3]\n",
    "#taking user input of num1, num2\n",
    "num1, num2 = float(input(\"Enter the number\")), float(input(\"Enter the number\"))\n",
    "#comparing the numbers to find the greater number\n",
    "if num1>num2:\n",
    "    print(f\"{num1} is greater than {num2}\")\n",
    "else:\n",
    "    print(f\"{num2} is greater than {num1}\")\n"
   ]
  },
  {
   "cell_type": "code",
   "execution_count": 29,
   "id": "5bae06eb-c51a-4f4c-b832-77625b1471d4",
   "metadata": {},
   "outputs": [
    {
     "name": "stdin",
     "output_type": "stream",
     "text": [
      "Enter the percentage scored 20\n"
     ]
    },
    {
     "name": "stdout",
     "output_type": "stream",
     "text": [
      "Fail\n"
     ]
    }
   ],
   "source": [
    "#Q4]\n",
    "#taking input of score from user\n",
    "score = float(input(\"Enter the percentage scored\"))\n",
    "#checking if the score entered is valid or not\n",
    "if 0<=score<=100:\n",
    "    if score>=90:\n",
    "        print(\"A+\")\n",
    "    else:\n",
    "        if score>=80:\n",
    "            print(\"A\")\n",
    "        else:\n",
    "            if score>=70:\n",
    "                print(\"B+\")\n",
    "            else:\n",
    "                if score>=60:\n",
    "                    print(\"B\")\n",
    "                else:\n",
    "                    if score>=50:\n",
    "                        print(\"C+\")\n",
    "                    else:\n",
    "                        if score>=35:\n",
    "                            print(\"C\")\n",
    "                        else:\n",
    "                            print(\"Fail\")\n",
    "else:\n",
    "    print(\"Enter valid score\")"
   ]
  },
  {
   "cell_type": "code",
   "execution_count": 30,
   "id": "caf2f2be-9e83-45cd-9012-c4b062cad4b9",
   "metadata": {},
   "outputs": [
    {
     "name": "stdin",
     "output_type": "stream",
     "text": [
      "Enter the year 2023\n"
     ]
    },
    {
     "name": "stdout",
     "output_type": "stream",
     "text": [
      "2023 is not a leap year\n"
     ]
    }
   ],
   "source": [
    "#Q5]\n",
    "#taking user input for the year\n",
    "year = int(input(\"Enter the year\"))\n",
    "#checking if the year entered is valid or not\n",
    "if year>0:\n",
    "    #checking the condition for leap year\n",
    "    if year%4==0 and (year%100!=0 or year%400==0):\n",
    "        print(f\"{year} is leap year\")\n",
    "    else:\n",
    "        print(f\"{year} is not a leap year\")\n",
    "else:\n",
    "    print(\"Enter valid year\")"
   ]
  },
  {
   "cell_type": "code",
   "execution_count": 35,
   "id": "f8abfb3d-39ff-46b3-9f26-ce6a1c7a5d38",
   "metadata": {},
   "outputs": [
    {
     "name": "stdin",
     "output_type": "stream",
     "text": [
      "Enter the number 2\n",
      "Enter the number 3\n",
      "Enter the number 2\n"
     ]
    },
    {
     "name": "stdout",
     "output_type": "stream",
     "text": [
      "Isosceles Triangle\n"
     ]
    }
   ],
   "source": [
    "#Q6]\n",
    "#taking input from the user\n",
    "s1,s2,s3 = float(input(\"Enter the number\")), float(input(\"Enter the number\")), float(input(\"Enter the number\"))\n",
    "#comparing the sides to find out which triangle is it and checking the validity of each side\n",
    "if s1>0 and s2>0 and s3>0:\n",
    "    if s1==s2==s3 :\n",
    "        print(\"Equilateral Triangle\")\n",
    "    else:\n",
    "        if s1!=s2!=s3 and s1!=s3!=s2 :\n",
    "            print(\"Scalene Triangle\")\n",
    "        else:\n",
    "            print(\"Isosceles Triangle\")\n",
    "else:\n",
    "    print(\"Enter valid sides\")\n"
   ]
  },
  {
   "cell_type": "code",
   "execution_count": 36,
   "id": "e89ef0a0-4240-4dac-a03f-980e6268c29e",
   "metadata": {},
   "outputs": [
    {
     "name": "stdin",
     "output_type": "stream",
     "text": [
      "Enter the number 90\n",
      "Enter the number 500\n",
      "Enter the number 20\n"
     ]
    },
    {
     "name": "stdout",
     "output_type": "stream",
     "text": [
      "500.0 is greatest\n"
     ]
    }
   ],
   "source": [
    "#Q7]\n",
    "#taking input from the user\n",
    "num1,num2,num3 = float(input(\"Enter the number\")), float(input(\"Enter the number\")), float(input(\"Enter the number\"))\n",
    "#comparing the numbers\n",
    "if num1>num2:\n",
    "    if num1>num3:\n",
    "        print(f\"{num1} is greatest\")\n",
    "    else:\n",
    "        print(f\"{num3} is greatest\")\n",
    "else:\n",
    "    if num2>num3:\n",
    "        print(f\"{num2} is greatest\")\n",
    "    else:\n",
    "        print(f\"{num3} is greatest\")\n"
   ]
  },
  {
   "cell_type": "code",
   "execution_count": 37,
   "id": "8c5268dc-161f-414e-8a5e-8d11339b8256",
   "metadata": {},
   "outputs": [
    {
     "name": "stdin",
     "output_type": "stream",
     "text": [
      "Enter the character I\n"
     ]
    },
    {
     "name": "stdout",
     "output_type": "stream",
     "text": [
      "'I' is an vowel\n"
     ]
    }
   ],
   "source": [
    "#Q8]\n",
    "#taking user input of character\n",
    "vowels_list = ['a', 'e', 'i', 'o', 'u']\n",
    "char = input(\"Enter the character\")\n",
    "#checking if the user entered string or character and it is alphabet\n",
    "if len(char) == 1 and char.isalpha():\n",
    "    #checking if char is vowel or consonant\n",
    "    if char.lower() in vowels_list:\n",
    "        print(f\"'{char}' is an vowel\")\n",
    "    else:\n",
    "        print(f\"{char} is a consonant\")\n",
    "else:\n",
    "    print(\"Enter valid character alphabet\")"
   ]
  },
  {
   "cell_type": "code",
   "execution_count": 38,
   "id": "5122da65-b696-477a-bd85-fbe2321c09e3",
   "metadata": {},
   "outputs": [
    {
     "name": "stdin",
     "output_type": "stream",
     "text": [
      "Enter the totale purchase amount 10000\n"
     ]
    },
    {
     "name": "stdout",
     "output_type": "stream",
     "text": [
      "Purchase Amount : 10000.0\n",
      "Dicount Amount : 1000.0\n",
      "Payable Amount : 9000.0\n"
     ]
    }
   ],
   "source": [
    "#Q9]\n",
    "purchase_amount = float(input(\"Enter the totale purchase amount\"))\n",
    "print(f\"Purchase Amount : {purchase_amount}\")\n",
    "#checking the condtions for discount and calulating it\n",
    "if 0<purchase_amount < 5000:\n",
    "    discount_amount = 0.05*purchase_amount\n",
    "    print(f\"Dicount Amount : {discount_amount}\")\n",
    "elif purchase_amount <= 10000:\n",
    "    discount_amount = 0.1*purchase_amount\n",
    "    print(f\"Dicount Amount : {discount_amount}\")\n",
    "elif purchase_amount > 10000:\n",
    "    discount_amount = 0.15*purchase_amount\n",
    "    print(f\"Dicount Amount : {discount_amount}\")\n",
    "else:\n",
    "    print(f\"Dicount Amount : {0}\")\n",
    "print(f\"Payable Amount : {purchase_amount - discount_amount}\")"
   ]
  },
  {
   "cell_type": "code",
   "execution_count": 39,
   "id": "7e5fcb43-43d6-47e4-a422-4fa38d8fe6a3",
   "metadata": {},
   "outputs": [
    {
     "name": "stdin",
     "output_type": "stream",
     "text": [
      "Enter the number 23\n"
     ]
    },
    {
     "name": "stdout",
     "output_type": "stream",
     "text": [
      "23 is Odd\n"
     ]
    }
   ],
   "source": [
    "#Q10]\n",
    "num = int(input(\"Enter the number\"))\n",
    "if num%2==0:\n",
    "    print(f\"{num} is Even\")\n",
    "else:\n",
    "    print(f\"{num} is Odd\")\n",
    "          "
   ]
  },
  {
   "cell_type": "markdown",
   "id": "7c3070c5-1094-4f95-a519-d56bc56a4ba1",
   "metadata": {},
   "source": [
    "Intermediate Level:"
   ]
  },
  {
   "cell_type": "code",
   "execution_count": 72,
   "id": "7ff6e6f9-be2a-45b2-8bff-46b29078b8f0",
   "metadata": {},
   "outputs": [
    {
     "name": "stdin",
     "output_type": "stream",
     "text": [
      "Enter the number 1\n",
      "Enter the number 5\n",
      "Enter the number 6\n"
     ]
    },
    {
     "name": "stdout",
     "output_type": "stream",
     "text": [
      "The quadratic equation has two real roots.\n",
      "Root 1 : -2.0 \n",
      "Root 2 : -3.0\n"
     ]
    }
   ],
   "source": [
    "#Q11]\n",
    "import math\n",
    "\n",
    "a, b, c = [int(input(\"Enter the number\")) for i in range(3)]\n",
    "D = b**2 - 4*a*c\n",
    "x1 = (-b + math.sqrt(D)) / (2*a)\n",
    "x2 = (-b - math.sqrt(D)) / (2*a)\n",
    "root1 = a*x1**2 + b*x1 + c\n",
    "root2 = a*x2**2 + b*x2 + c\n",
    "\n",
    "if D > 0:\n",
    "    print(\"The quadratic equation has two real roots.\")\n",
    "    print(f\"Root 1 : {x1} \\nRoot 2 : {x2}\")\n",
    "elif D == 0:\n",
    "    print(\"The quadratic equation has one real root (the roots are repeated)\")\n",
    "    print(f\"Root : {x1}\")\n",
    "elif D < 0:\n",
    "    print(\"The quadratic equation has two complex roots.\")\n",
    "    print(f\"Root 1 : {x1} \\nRoot 2 : {x2}\")\n"
   ]
  },
  {
   "cell_type": "code",
   "execution_count": 45,
   "id": "695739fa-cb10-4b29-94b4-4ccd89337226",
   "metadata": {},
   "outputs": [
    {
     "name": "stdin",
     "output_type": "stream",
     "text": [
      "Enter the number 2\n"
     ]
    },
    {
     "name": "stdout",
     "output_type": "stream",
     "text": [
      "2 Day of the week is Monday\n"
     ]
    }
   ],
   "source": [
    "#Q12]\n",
    "num_day = int(input(\"Enter the number\"))\n",
    "days_in_week = [ \"Sunday\",\"Monday\", \"Tuesday\", \"Wednesday\", \"Thursday\", \"Friday\", \"Saturday\"]\n",
    "\n",
    "if 0<num_day<=7:\n",
    "    print(f\"{num_day} Day of the week is {days_in_week[num_day-1]}\")\n",
    "elif num>7:\n",
    "    print(f\"{num_day} Day of the week is {days_in_week[num_day%7-1]}\")\n",
    "else:\n",
    "    print(\"Enter valid day\")\n",
    "    \n",
    "    "
   ]
  },
  {
   "cell_type": "code",
   "execution_count": 46,
   "id": "850e9626-dcfc-402f-b7ca-f5f08ad1b26e",
   "metadata": {},
   "outputs": [
    {
     "name": "stdin",
     "output_type": "stream",
     "text": [
      "Enter the number 5\n"
     ]
    },
    {
     "name": "stdout",
     "output_type": "stream",
     "text": [
      "5! = 120\n"
     ]
    }
   ],
   "source": [
    "#Q13]\n",
    "num = int(input(\"Enter the number\"))\n",
    "def fact(num):\n",
    "    if num==0:\n",
    "        return 1\n",
    "    return num*fact(num-1)\n",
    "print(f\"{num}! = {fact(num)}\")"
   ]
  },
  {
   "cell_type": "code",
   "execution_count": 47,
   "id": "9b77d7c9-4448-4924-9b99-afb1d66bd7ce",
   "metadata": {},
   "outputs": [
    {
     "name": "stdin",
     "output_type": "stream",
     "text": [
      "Enter the number 90\n",
      "Enter the number 2\n",
      "Enter the number 30\n"
     ]
    },
    {
     "name": "stdout",
     "output_type": "stream",
     "text": [
      "90.0 is greatest\n"
     ]
    }
   ],
   "source": [
    "#Q14]\n",
    "#taking input from the user\n",
    "num1,num2,num3 = float(input(\"Enter the number\")), float(input(\"Enter the number\")), float(input(\"Enter the number\"))\n",
    "#comparing the numbers\n",
    "if num1>num2:\n",
    "    if num1>num3:\n",
    "        print(f\"{num1} is greatest\")\n",
    "    else:\n",
    "        print(f\"{num3} is greatest\")\n",
    "else:\n",
    "    if num2>num3:\n",
    "        print(f\"{num2} is greatest\")\n",
    "    else:\n",
    "        print(f\"{num3} is greatest\")\n"
   ]
  },
  {
   "cell_type": "code",
   "execution_count": 62,
   "id": "a24888c2-ea7a-4920-af21-8206956a6dd7",
   "metadata": {},
   "outputs": [
    {
     "name": "stdin",
     "output_type": "stream",
     "text": [
      "Enter your pin:  12\n",
      "Enter your pin:  123\n"
     ]
    },
    {
     "name": "stdout",
     "output_type": "stream",
     "text": [
      "1. To withdraw\n",
      "2. To check balance\n",
      "3. Quit\n"
     ]
    },
    {
     "name": "stdin",
     "output_type": "stream",
     "text": [
      "Enter your choice:  1\n",
      "Enter the amount:  100\n"
     ]
    },
    {
     "name": "stdout",
     "output_type": "stream",
     "text": [
      "Operation Successful\n",
      "Balance: 900\n",
      "1. To withdraw\n",
      "2. To check balance\n",
      "3. Quit\n"
     ]
    },
    {
     "name": "stdin",
     "output_type": "stream",
     "text": [
      "Enter your choice:  3\n"
     ]
    }
   ],
   "source": [
    "#Q15]\n",
    "balance = 1000\n",
    "pin = '123'  \n",
    "c = 0\n",
    "quit = False\n",
    "user_pin = input(\"Enter your pin: \")\n",
    "while not quit and c < 3:\n",
    "\n",
    "    if user_pin == pin:\n",
    "        print(\"1. To withdraw\\n2. To check balance\\n3. Quit\")\n",
    "        choice = int(input(\"Enter your choice: \"))\n",
    "        if choice == 1:\n",
    "            withdraw_amt = int(input(\"Enter the amount: \"))\n",
    "            if 0 < withdraw_amt <= balance:\n",
    "                print(\"Operation Successful\")\n",
    "                balance -= withdraw_amt\n",
    "                print(f\"Balance: {balance}\")\n",
    "            else:\n",
    "                print(\"Enter valid amount\")\n",
    "        elif choice == 2:\n",
    "            print(f\"Balance: {balance}\")\n",
    "        elif choice == 3:\n",
    "            quit = True\n",
    "    else:\n",
    "        user_pin = input(\"Enter your pin: \")\n",
    "        c += 1\n",
    "\n",
    "if c == 3:\n",
    "    print(\"Maximum attempts reached. Please try again later.\")\n"
   ]
  },
  {
   "cell_type": "code",
   "execution_count": 65,
   "id": "a53d9231-5bd2-41dd-95a0-d88fadcddc49",
   "metadata": {},
   "outputs": [
    {
     "name": "stdin",
     "output_type": "stream",
     "text": [
      "Enter the string dadd\n"
     ]
    },
    {
     "name": "stdout",
     "output_type": "stream",
     "text": [
      "String is not palindrome\n"
     ]
    }
   ],
   "source": [
    "#Q16]\n",
    "string = input(\"Enter the string\")\n",
    "#checking the condition of palindrome\n",
    "if string==string[::-1]:\n",
    "    print(\"String is palindrome\")\n",
    "else:\n",
    "    print(\"String is not palindrome\")\n",
    "    "
   ]
  },
  {
   "cell_type": "code",
   "execution_count": 67,
   "id": "f21bb4d1-5b31-4428-80f8-cd98c2b6f0c8",
   "metadata": {},
   "outputs": [
    {
     "name": "stdout",
     "output_type": "stream",
     "text": [
      "List : [0, 1, 2, 3, 4, 5, 6, 7, 8, 9]\n",
      "Average of List excludint min and max element : 4.5\n"
     ]
    }
   ],
   "source": [
    "#Q17]\n",
    "#creating a list of integers\n",
    "list_num = [i for i in range(10)]\n",
    "print(f\"List : {list_num}\")\n",
    "#removing the minimum and maximum element in the list\n",
    "list_num.remove(min(list_num))\n",
    "list_num.remove(max(list_num))\n",
    "print(f\"Average of List excludint min and max element : {sum(list_num)/len(list_num)}\")\n",
    "\n"
   ]
  },
  {
   "cell_type": "code",
   "execution_count": 68,
   "id": "84cf1f1c-8a68-41f9-8c57-328b75f5de3d",
   "metadata": {},
   "outputs": [
    {
     "name": "stdin",
     "output_type": "stream",
     "text": [
      "Enter the temprature 0\n"
     ]
    },
    {
     "name": "stdout",
     "output_type": "stream",
     "text": [
      "0.0C = 32.0F\n"
     ]
    }
   ],
   "source": [
    "#Q18]\n",
    "#taking user inpyt and converting it\n",
    "celsius = float(input(\"Enter the temprature\"))\n",
    "print(f\"{celsius}C = {9/5*celsius +32}F\")"
   ]
  },
  {
   "cell_type": "code",
   "execution_count": 69,
   "id": "bac50b4b-656f-40ca-a099-23b036808294",
   "metadata": {},
   "outputs": [
    {
     "name": "stdout",
     "output_type": "stream",
     "text": [
      "'+' for addition. \n",
      "'-' for substraction \n",
      "'/' for division \n",
      "'*' for multiplication\n"
     ]
    },
    {
     "name": "stdin",
     "output_type": "stream",
     "text": [
      "Enter you choice +\n",
      "Enter the numeber 10\n",
      "Enter the numeber 20\n"
     ]
    },
    {
     "name": "stdout",
     "output_type": "stream",
     "text": [
      "Addition : 30.0\n"
     ]
    }
   ],
   "source": [
    "#Q19]\n",
    "print(\"'+' for addition. \\n'-' for substraction \\n'/' for division \\n'*' for multiplication\")\n",
    "choice = input(\"Enter you choice\")\n",
    "x,y= [float(input(\"Enter the numeber\")) for i in range(2)]\n",
    "if choice=='+':\n",
    "    print(f\"Addition : {x+y}\")\n",
    "elif choice=='-':\n",
    "    print(f\"Substraction : {x-y}\")\n",
    "elif choice=='*':\n",
    "    print(f\"Multiplication : {x*y}\")\n",
    "elif choice=='/':\n",
    "    print(f\"division : {x/y}\")\n",
    "    \n",
    "             "
   ]
  },
  {
   "cell_type": "code",
   "execution_count": 81,
   "id": "51e33042-c4f0-4565-83de-240c51ef391f",
   "metadata": {},
   "outputs": [
    {
     "name": "stdin",
     "output_type": "stream",
     "text": [
      "Enter the number 1\n",
      "Enter the number -6\n",
      "Enter the number 11\n",
      "Enter the number -6\n"
     ]
    },
    {
     "name": "stdout",
     "output_type": "stream",
     "text": [
      "(0.5+0.2886751345948128j) (0.5-0.2886751345948128j)\n",
      "Root 1 : (1+0j) \n",
      "Root 2 : (-0.9999999999999998+0j) \n",
      "Root 3 : (-1.6653345369377348e-16+0j)\n"
     ]
    }
   ],
   "source": [
    "#Q20]\n",
    "import cmath\n",
    "\n",
    "a, b, c, d = [int(input(\"Enter the number\")) for i in range(4)]\n",
    "\n",
    "# Calculate p and q\n",
    "p = (3 * a * c - b ** 2) / (3 * a ** 2)\n",
    "q = (2 * b ** 3 - 9 * a * b * c + 27 * a ** 2 * d) / (27 * a ** 3)\n",
    "\n",
    "# Calculate discriminant\n",
    "discriminant = (q / 2) ** 2 + (p / 3) ** 3\n",
    "\n",
    "# Calculate u and v\n",
    "u = ((q / 2) + cmath.sqrt(discriminant)) ** (1 / 3)\n",
    "v = ((q / 2) - cmath.sqrt(discriminant)) ** (1 / 3)\n",
    "\n",
    "# Calculate roots\n",
    "x1 = u + v\n",
    "x2 = -(u + v) / 2 + (u - v) * (cmath.sqrt(3) / 2) * 1j\n",
    "x3 = -(u + v) / 2 - (u - v) * (cmath.sqrt(3) / 2) * 1j\n",
    "print(u,v)\n",
    "print(f\"Root 1 : {x1} \\nRoot 2 : {x2} \\nRoot 3 : {x3}\")\n"
   ]
  },
  {
   "cell_type": "markdown",
   "id": "425ea7ed-10cb-4a62-8843-ceb7561e75d6",
   "metadata": {},
   "source": [
    "Advanced Level:"
   ]
  },
  {
   "cell_type": "markdown",
   "id": "233e2287-ce63-4584-addf-e7400a980080",
   "metadata": {},
   "source": [
    "Advanced Level:"
   ]
  },
  {
   "cell_type": "code",
   "execution_count": 45,
   "id": "686d420e-2878-4dcf-84c9-31b0ea77d4e0",
   "metadata": {},
   "outputs": [
    {
     "name": "stdin",
     "output_type": "stream",
     "text": [
      "Enter your income in USD 100000\n"
     ]
    },
    {
     "name": "stdout",
     "output_type": "stream",
     "text": [
      "Income : 100000 \n",
      "Tax : 17000.0 \n"
     ]
    }
   ],
   "source": [
    "#Q21]\n",
    "# Bracket 1: Income from $0 to $10,000, tax rate of 0%.\n",
    "# Bracket 2: Income from $10,001 to $40,000, tax rate of 10%.\n",
    "# Bracket 3: Income from $40,001 to $80,000, tax rate of 20%.\n",
    "# Bracket 4: Income above $80,000, tax rate of 30%.\n",
    "\n",
    "income = int(input(\"Enter your income in USD\"))\n",
    "tax = 0\n",
    "#Conditions for the tax \n",
    "if 0<income<=10000 :\n",
    "    tax += 0\n",
    "elif 10000<income<=40000:\n",
    "    tax += (10000*0) + ((income-10000)*0.10)\n",
    "elif 40000<income<=80000:\n",
    "    tax += (10000*0) + ((30000)*0.10) + ((income-40000)*0.20)\n",
    "elif income>80000:\n",
    "    tax += (10000*0) + ((30000)*0.10) + ((40000)*0.20) + ((income-80000)*0.30)\n",
    "print(f\"Income : {income} \\nTax : {tax} \")"
   ]
  },
  {
   "cell_type": "code",
   "execution_count": 5,
   "id": "0b731ba3-aea0-4cf0-a985-f77e2b0b0b08",
   "metadata": {},
   "outputs": [
    {
     "name": "stdin",
     "output_type": "stream",
     "text": [
      "Play your turn:  rock\n"
     ]
    },
    {
     "name": "stdout",
     "output_type": "stream",
     "text": [
      "User played --> rock \n",
      "Computer Played --> scissor\n",
      "Round 1 --> Player Won\n"
     ]
    },
    {
     "name": "stdin",
     "output_type": "stream",
     "text": [
      "Play your turn:  rock\n"
     ]
    },
    {
     "name": "stdout",
     "output_type": "stream",
     "text": [
      "User played --> rock \n",
      "Computer Played --> scissor\n",
      "Round 2 --> Player Won\n"
     ]
    },
    {
     "name": "stdin",
     "output_type": "stream",
     "text": [
      "Play your turn:  rock\n"
     ]
    },
    {
     "name": "stdout",
     "output_type": "stream",
     "text": [
      "User played --> rock \n",
      "Computer Played --> paper\n",
      "Round 3 --> Computer Won\n",
      "Player Won\n"
     ]
    }
   ],
   "source": [
    "#Q22]\n",
    "import random\n",
    "\n",
    "list_game = [['rock',3],['paper',1],['scissor',2]]\n",
    "user_win = 0\n",
    "tie = 0\n",
    "c = 0\n",
    "while c != 3:\n",
    "    user_turn = input(\"Play your turn: \")\n",
    "    # Check if user input is valid\n",
    "    if user_turn in [item[0] for item in list_game]:\n",
    "        # Generate computer's turn randomly\n",
    "        computer_turn = random.choice([item[0] for item in list_game])\n",
    "        print(f\"User played --> {user_turn} \\nComputer Played --> {computer_turn}\")\n",
    "        # Determine the winner based on choices\n",
    "        if user_turn == computer_turn:\n",
    "            tie += 1\n",
    "            c += 1\n",
    "            print(f\"Round {c} --> Tie\")\n",
    "        elif (user_turn == 'rock' and computer_turn == 'scissor') or \\\n",
    "             (user_turn == 'paper' and computer_turn == 'rock') or \\\n",
    "             (user_turn == 'scissor' and computer_turn == 'paper'):\n",
    "            user_win += 1\n",
    "            c += 1\n",
    "            print(f\"Round {c} --> Player Won\")\n",
    "        else:\n",
    "            c += 1\n",
    "            print(f\"Round {c} --> Computer Won\")\n",
    "    else:\n",
    "        print(\"Enter correct choice\")\n",
    "# Print final result\n",
    "if user_win >= 2:\n",
    "    print(\"Player Won\")\n",
    "elif tie == 2:\n",
    "    print(\"It was a tie\")\n",
    "else:\n",
    "    print(\"Computer Won\")\n"
   ]
  },
  {
   "cell_type": "code",
   "execution_count": 46,
   "id": "c112cb19-dd7c-49bd-b09c-d1ce205837e9",
   "metadata": {},
   "outputs": [
    {
     "name": "stdout",
     "output_type": "stream",
     "text": [
      "1. Weak\n",
      "2. Moderate\n",
      "3. Strong\n",
      "4. Very Strong\n"
     ]
    },
    {
     "name": "stdin",
     "output_type": "stream",
     "text": [
      "Enter your choice:  4\n"
     ]
    },
    {
     "name": "stdout",
     "output_type": "stream",
     "text": [
      "Password: \\aRx<Ie40%>wgbXAz|VMH4ccfAi!6cEYi`\"yGYx\n"
     ]
    }
   ],
   "source": [
    "#Q23]\n",
    "import random\n",
    "import string\n",
    "# Define character sets for different password strengths\n",
    "print(\"1. Weak\\n2. Moderate\\n3. Strong\\n4. Very Strong\")\n",
    "choice = int(input(\"Enter your choice: \"))\n",
    "password = \"\"\n",
    "weak_chars = string.ascii_letters\n",
    "moderate_chars = string.ascii_letters + string.digits + string.punctuation\n",
    "strong_chars = string.ascii_letters + string.digits + string.punctuation\n",
    "very_strong_chars = string.ascii_letters + string.digits + string.punctuation\n",
    "\n",
    "if choice == 1:\n",
    "    # Weak password\n",
    "    limit = random.randint(1, 9)\n",
    "    password = ''.join(random.choices(weak_chars, k=limit))\n",
    "elif choice == 2:\n",
    "    # Moderate password\n",
    "    limit = random.randint(8, 15)\n",
    "    password = ''.join(random.choices(moderate_chars, k=limit))\n",
    "elif choice == 3:\n",
    "    # Strong password\n",
    "    limit = random.randint(16, 31)\n",
    "    password = ''.join(random.choices(strong_chars, k=limit))\n",
    "elif choice == 4:\n",
    "    # Very Strong password\n",
    "    limit = random.randint(32, 50)\n",
    "    password = ''.join(random.choices(very_strong_chars, k=limit))\n",
    "else:\n",
    "    print(\"Enter Valid Choice\")\n",
    "\n",
    "print(f\"Password: {password}\")\n"
   ]
  },
  {
   "cell_type": "code",
   "execution_count": 48,
   "id": "f6f6eb5e-d9b0-4ade-99ce-f4bd9e0b7a32",
   "metadata": {},
   "outputs": [
    {
     "name": "stdout",
     "output_type": "stream",
     "text": [
      "1.Start 2.Stop\n"
     ]
    },
    {
     "name": "stdin",
     "output_type": "stream",
     "text": [
      "enter your choice 1\n"
     ]
    },
    {
     "name": "stdout",
     "output_type": "stream",
     "text": [
      "1.go in the desert\n",
      "2.go in the jungle\n",
      "3.go in the river\n",
      "4.go in the fire\n"
     ]
    },
    {
     "name": "stdin",
     "output_type": "stream",
     "text": [
      "Enter your choice 1\n"
     ]
    },
    {
     "name": "stdout",
     "output_type": "stream",
     "text": [
      "1.drink water 2.stay thirsty\n"
     ]
    },
    {
     "name": "stdin",
     "output_type": "stream",
     "text": [
      "Enter your choice 1\n"
     ]
    },
    {
     "name": "stdout",
     "output_type": "stream",
     "text": [
      "You Died of POISION\n",
      "Thank You For Playing!!!\n"
     ]
    }
   ],
   "source": [
    "#Q24]\n",
    "print('1.Start 2.Stop')\n",
    "choice=int(input('enter your choice'))\n",
    "#chocie base game \n",
    "if choice== 1:\n",
    "    print('1.go in the desert\\n2.go in the jungle\\n3.go in the river\\n4.go in the fire')\n",
    "    choice=int(input('Enter your choice'))\n",
    "    if choice== 1:\n",
    "        print('1.drink water 2.stay thirsty')\n",
    "        choice=int(input('Enter your choice'))\n",
    "        if choice==1:\n",
    "            print('You Died of POISION\\nThank You For Playing!!!')\n",
    "        elif choice==2:\n",
    "            print('You Died of THIRST\\nThank You For Playing!!!')\n",
    "        else:\n",
    "            print('DISQUALIFIED\\n<Unfair Means Used In The Game>')\n",
    "    elif choice==2:\n",
    "                   print('YOU WON')\n",
    "    elif choice==3:\n",
    "                   print('You drowned\\nThank You For Playing!!!')\n",
    "    elif coice==4:\n",
    "        print('You Died\\nThank You For Playing!!!')\n",
    "    else:\n",
    "        print('DISQUALIFIED\\n<Unfair Means Used In The Game>')\n",
    "else:\n",
    "    print('Thank you for joining this game')\n",
    "        "
   ]
  },
  {
   "cell_type": "code",
   "execution_count": 53,
   "id": "91eff459-0730-48ec-9341-e84679e2c4d1",
   "metadata": {},
   "outputs": [
    {
     "name": "stdout",
     "output_type": "stream",
     "text": [
      "Enter x,y,c\n"
     ]
    },
    {
     "name": "stdin",
     "output_type": "stream",
     "text": [
      "Enter the number  0\n",
      "Enter the number  4\n",
      "Enter the number  8\n"
     ]
    },
    {
     "name": "stdout",
     "output_type": "stream",
     "text": [
      "the equation becomes by=c, which is a vertical line. In this case, x can take any value and there is no unique solution.\n"
     ]
    }
   ],
   "source": [
    "#Q25]\n",
    "print(\"Enter x,y,c\")\n",
    "a,b,c = [int(input(\"Enter the number \")) for i in range(3)]\n",
    "#conditions\n",
    "if a==0 and b==0:\n",
    "    print(\" the equation degenerates into 0=c. This equation has no solution unless c=0, in which case it is true for all x.\")\n",
    "elif a==0 and b!=0:\n",
    "    print(\"the equation becomes by=c, which is a vertical line. In this case, x can take any value and there is no unique solution.\")\n",
    "elif a!=0:\n",
    "    print(f\"x : {c/a}-{b/a}y\")\n"
   ]
  },
  {
   "cell_type": "code",
   "execution_count": null,
   "id": "ae656bd8-91b1-4737-be13-5400380d1cde",
   "metadata": {},
   "outputs": [],
   "source": [
    "#Q26]\n",
    "#Basic quiz game\n",
    "import time\n",
    "print(\"This quiz game contains 3 rounds and you have 5 seconds to answer each question\")\n",
    "score = 0\n",
    "for _ in range(3):\n",
    "            if _ == 0:\n",
    "                print(\"What has 28 days\")\n",
    "                print(\"A.Feb B.Jan \\nC.None of the above D.All of the above\")\n",
    "                ch = input(\"Enter your choice\").upper()\n",
    "                if ch==\"D\":\n",
    "                    print(\"Correct Answer!!\")\n",
    "                    score += 10\n",
    "                else:\n",
    "                    print(\"Wrong Answer!!\\nBetter Luck Next Time!!\")\n",
    "            elif _ == 1:\n",
    "                print(\"What is 1+1\")\n",
    "                print(\"What has 28 days\")\n",
    "                print(\"A.5 B.2 \\nC.10 D.0\")\n",
    "                ch = input(\"Enter your choice\").upper()\n",
    "                if ch==\"B\":\n",
    "                    print(\"Correct Answer!!\")\n",
    "                    score += 10\n",
    "                else:\n",
    "                    print(\"Wrong Answer!!\\nBetter Luck Next Time!!\")\n",
    "            \n",
    "            elif _ == 2:\n",
    "                print(\"What is 10**2\")\n",
    "                print(\"What has 28 days\")\n",
    "                print(\"A.100 B.200 \\nC.1100 D.500\")\n",
    "                ch = input(\"Enter your choice\").upper()\n",
    "                if ch==\"A\":\n",
    "                    print(\"Correct Answer!!\")\n",
    "                    score += 10\n",
    "                else:\n",
    "                    print(\"Wrong Answer!!\\nBetter Luck Next Time!!\")\n",
    "print(f\"You have scored {score} points out of 30\")\n"
   ]
  },
  {
   "cell_type": "code",
   "execution_count": 44,
   "id": "58e63a05-1b04-45cd-a964-8a6ae5351603",
   "metadata": {},
   "outputs": [
    {
     "name": "stdin",
     "output_type": "stream",
     "text": [
      "Enter the year 2024\n"
     ]
    },
    {
     "name": "stdout",
     "output_type": "stream",
     "text": [
      "2024 is Not Prime\n"
     ]
    }
   ],
   "source": [
    "#Q27]\n",
    "#creating a function to check for prime\n",
    "def prime(x):\n",
    "    c = 0\n",
    "    for i in range(2,year+1//2):\n",
    "        if x%i==0:\n",
    "            return \"Not Prime\"\n",
    "    return \"Prime\"\n",
    "year = int(input(\"Enter the year\"))\n",
    "print(f\"{year} is {prime(year)}\")"
   ]
  },
  {
   "cell_type": "code",
   "execution_count": 94,
   "id": "f122c191-08a0-4e9e-b55d-a9b6d093e35d",
   "metadata": {},
   "outputs": [
    {
     "name": "stdin",
     "output_type": "stream",
     "text": [
      "Enter the number 3\n",
      "Enter the number 90\n",
      "Enter the number 2\n"
     ]
    },
    {
     "name": "stdout",
     "output_type": "stream",
     "text": [
      "2.0 3.0 90.0\n"
     ]
    }
   ],
   "source": [
    "#Q28]\n",
    "#taking user of three numbers\n",
    "num1, num2, num3 = float(input(\"Enter the number\")), float(input(\"Enter the number\")), float(input(\"Enter the number\"))\n",
    "#checking the conditions for sorting in ascendin order\n",
    "if num1 <= num2 <= num3:\n",
    "    print(num1, num2, num3)\n",
    "elif num1 <= num3 <= num2:\n",
    "    print(num1, num3, num2)\n",
    "elif num2 <= num1 <= num3:\n",
    "    print(num2, num1, num3)\n",
    "elif num2 <= num3 <= num1:\n",
    "    print(num2, num3, num1)\n",
    "elif num3 <= num1 <= num2:\n",
    "    print(num3, num1, num2)\n",
    "else:\n",
    "    print(num3, num2, num1)\n",
    "        "
   ]
  },
  {
   "cell_type": "code",
   "execution_count": null,
   "id": "474e6739-2696-4eb4-a49c-04990a5f5d07",
   "metadata": {},
   "outputs": [],
   "source": [
    "#Q29]"
   ]
  },
  {
   "cell_type": "code",
   "execution_count": 102,
   "id": "fe751eb6-46b5-4fac-a6e2-462dd54b726b",
   "metadata": {},
   "outputs": [
    {
     "name": "stdin",
     "output_type": "stream",
     "text": [
      "Enter the height in meters 1.2\n",
      "Enter the weight in kg 82\n"
     ]
    },
    {
     "name": "stdout",
     "output_type": "stream",
     "text": [
      "Obese\n",
      "Avoid sugar, go on a clean food calorie deficiet diet and workout\n"
     ]
    }
   ],
   "source": [
    "#Q30]\n",
    "height = float(input(\"Enter the height in meters\"))\n",
    "weight = float(input(\"Enter the weight in kg\"))\n",
    "body_mass_index = weight/height\n",
    "#checking the conditions for bmi\n",
    "if body_mass_index<18.5:\n",
    "    print(\"Underweight\")\n",
    "    print(\"Go on a Muscle Gain Diet and Workout\")\n",
    "elif 18.5<=body_mass_index<=24.9:\n",
    "    print(\"Normal weight\")\n",
    "    print(\"Keep the same diet you are on\")\n",
    "elif 25<=body_mass_index<=29.9:\n",
    "    print(\"Overweight\")\n",
    "    print(\"You should go on a calorie deficiet diet and workout\")\n",
    "elif body_mass_index>=30:\n",
    "    print(\"Obese\")\n",
    "    print(\"Avoid sugar, go on a clean food calorie deficiet diet and workout\")\n",
    "else:\n",
    "    print(\"Enter valid weight and height\")\n"
   ]
  },
  {
   "cell_type": "markdown",
   "id": "78ae888d-eb43-4b7c-b665-068df8cbdaf9",
   "metadata": {},
   "source": [
    "Challenge Level:"
   ]
  },
  {
   "cell_type": "code",
   "execution_count": 13,
   "id": "cb92cf91-b1e1-45de-9124-c67035ddcc37",
   "metadata": {},
   "outputs": [
    {
     "data": {
      "text/plain": [
       "{' ',\n",
       " '1',\n",
       " '2',\n",
       " '4',\n",
       " 'A',\n",
       " 'B',\n",
       " 'C',\n",
       " 'D',\n",
       " 'E',\n",
       " 'F',\n",
       " 'G',\n",
       " 'H',\n",
       " 'I',\n",
       " 'J',\n",
       " 'K',\n",
       " 'L',\n",
       " 'M',\n",
       " 'N',\n",
       " 'O',\n",
       " 'P',\n",
       " 'Q',\n",
       " 'R',\n",
       " 'S',\n",
       " 'T',\n",
       " 'U',\n",
       " 'V',\n",
       " 'W',\n",
       " 'X',\n",
       " 'Y',\n",
       " 'Z',\n",
       " 'a',\n",
       " 'b',\n",
       " 'c',\n",
       " 'd',\n",
       " 'e',\n",
       " 'f',\n",
       " 'g',\n",
       " 'h',\n",
       " 'i',\n",
       " 'j',\n",
       " 'k',\n",
       " 'l',\n",
       " 'm',\n",
       " 'n',\n",
       " 'o',\n",
       " 'p',\n",
       " 'q',\n",
       " 'r',\n",
       " 's',\n",
       " 't',\n",
       " 'u',\n",
       " 'v',\n",
       " 'w',\n",
       " 'x',\n",
       " 'y',\n",
       " 'z'}"
      ]
     },
     "execution_count": 13,
     "metadata": {},
     "output_type": "execute_result"
    }
   ],
   "source": [
    "\\aRx<Ie40%>wgbXAz|VMH4ccfAi!6cEYi`\"yGYx\n"
   ]
  },
  {
   "cell_type": "code",
   "execution_count": 14,
   "id": "14a8430b-f66d-4f0c-9d4d-726e3b621b39",
   "metadata": {},
   "outputs": [
    {
     "name": "stdin",
     "output_type": "stream",
     "text": [
      "Enter your password \\aRx<Ie40%>wgbXAz|VMH4ccfAi!6cEYi`\"yGYx\n"
     ]
    },
    {
     "name": "stdout",
     "output_type": "stream",
     "text": [
      "\\aRx<Ie40%>wgbXAz|VMH4ccfAi!6cEYi`\"yGYx is Very Strong\n"
     ]
    }
   ],
   "source": [
    "#Q31]\n",
    "#taking password input\n",
    "password = input(\"Enter your password\")\n",
    "weak_chars = string.ascii_letters\n",
    "moderate_chars = string.ascii_letters + string.digits + string.punctuation\n",
    "strong_chars = string.ascii_letters + string.digits + string.punctuation\n",
    "very_strong_chars = string.ascii_letters + string.digits + string.punctuation\n",
    "\n",
    "if 32<=len(password) and set(password).issubset(very_strong_chars):\n",
    "    print(f\"{password} is Very Strong\")\n",
    "elif 16<=len(password)<32 and set(password).issubset(strong_chars):\n",
    "    print(f\"{password} is Strong\")\n",
    "elif 8<=len(password)<16 and set(password).issubset(moderate_chars):\n",
    "    print(f\"{password} is Moderate\")\n",
    "elif 8<len(password) and set(password).issubset(weak):\n",
    "    print(f\"{password} is Weak\")\n",
    "elif 8<len(password) and set(password).issubset(very_strong_chars):\n",
    "    print(f\"combinations of characters used in '{password}' is strong but it is weak \")\n",
    "else:\n",
    "    print(\"Invalid Password\")\n",
    "\n"
   ]
  },
  {
   "cell_type": "code",
   "execution_count": 101,
   "id": "2ea33b62-375c-4d2c-b835-ca9a0dffb31d",
   "metadata": {},
   "outputs": [
    {
     "name": "stdin",
     "output_type": "stream",
     "text": [
      "Enter the number of rows 2\n",
      "Enter the number of colums 2\n"
     ]
    },
    {
     "name": "stdout",
     "output_type": "stream",
     "text": [
      "Enter the elements of Matrix A\n"
     ]
    },
    {
     "name": "stdin",
     "output_type": "stream",
     "text": [
      "Enter A11:  1\n",
      "Enter A12:  2\n",
      "Enter A21:  3\n",
      "Enter A22:  4\n"
     ]
    },
    {
     "name": "stdout",
     "output_type": "stream",
     "text": [
      "Enter the elements of Matrix B\n"
     ]
    },
    {
     "name": "stdin",
     "output_type": "stream",
     "text": [
      "Enter A11:  10\n",
      "Enter A12:  10\n",
      "Enter A21:  10\n",
      "Enter A22:  10\n"
     ]
    },
    {
     "name": "stdout",
     "output_type": "stream",
     "text": [
      "A.Addition B.Subtraction\n"
     ]
    },
    {
     "name": "stdin",
     "output_type": "stream",
     "text": [
      "Enter your choice a\n"
     ]
    },
    {
     "name": "stdout",
     "output_type": "stream",
     "text": [
      "A+B =  [[11.0, 12.0], [13.0, 14.0]]\n"
     ]
    }
   ],
   "source": [
    "#Q32]\n",
    "row = int(input(\"Enter the number of rows\"))\n",
    "column = int(input(\"Enter the number of colums\"))\n",
    "#enter teh elements of first matring\n",
    "print(\"Enter the elements of Matrix A\")\n",
    "matrix_1 = [[float(input(f\"Enter A{i+1}{j+1}: \")) for j in range(column)] for i in range(row)]\n",
    "print(\"Enter the elements of Matrix B\")\n",
    "matrix_2 = [[float(input(f\"Enter A{i+1}{j+1}: \")) for j in range(column)] for i in range(row)]\n",
    "#calculating the answer\n",
    "print(\"A.Addition B.Subtraction\")\n",
    "char = input(\"Enter your choice\").upper()\n",
    "if char=='A':\n",
    "    print(\"A+B = \",[[matrix_1[i][j]+matrix_2[i][j] for j in range(column)] for i in range(row)])\n",
    "elif char=='B':\n",
    "    print(\"A-B = \", [[matrix_1[i][j]-matrix_2[i][j] for j in range(column)] for i in range(row)])\n",
    "else:\n",
    "    print(\"Wrong choice\")"
   ]
  },
  {
   "cell_type": "code",
   "execution_count": 25,
   "id": "ff918ccf-5cc8-4946-9ed2-8e2ff528477a",
   "metadata": {},
   "outputs": [
    {
     "name": "stdin",
     "output_type": "stream",
     "text": [
      "Enter the number 8\n",
      "Enter the number 2\n"
     ]
    },
    {
     "name": "stdout",
     "output_type": "stream",
     "text": [
      "2 is GCD\n"
     ]
    }
   ],
   "source": [
    "#Q33]\n",
    "a,b= [int(input(\"Enter the number\")) for i in range(2)]\n",
    "if b>a:\n",
    "    a,b=b,a\n",
    "\n",
    "while a>=b:\n",
    "    r = a%b\n",
    "    if r==0:\n",
    "        print(f\"{b} is GCD\")\n",
    "        break\n",
    "    a,b=b,r\n",
    "    print(a,b)\n",
    "\n"
   ]
  },
  {
   "cell_type": "code",
   "execution_count": 19,
   "id": "886fee32-4dfe-4e8e-aac1-df84dfcce231",
   "metadata": {},
   "outputs": [
    {
     "name": "stdout",
     "output_type": "stream",
     "text": [
      "Enter the elements of Matrix A\n"
     ]
    },
    {
     "name": "stdin",
     "output_type": "stream",
     "text": [
      "Enter the number of rows for Matrix A:  1\n",
      "Enter the number of columns for Matrix A:  2\n",
      "Enter A11:  1\n",
      "Enter A12:  2\n"
     ]
    },
    {
     "name": "stdout",
     "output_type": "stream",
     "text": [
      "Enter the elements of Matrix B\n"
     ]
    },
    {
     "name": "stdin",
     "output_type": "stream",
     "text": [
      "Enter the number of rows for Matrix B:  2\n",
      "Enter the number of columns for Matrix B:  1\n",
      "Enter B11:  10\n",
      "Enter B21:  10\n"
     ]
    },
    {
     "name": "stdout",
     "output_type": "stream",
     "text": [
      "Resultant Matrix:\n",
      "[30.0]\n"
     ]
    }
   ],
   "source": [
    "#Q34]\n",
    "print(\"Enter the elements of Matrix A\")\n",
    "m = int(input(\"Enter the number of rows for Matrix A: \"))\n",
    "n = int(input(\"Enter the number of columns for Matrix A: \"))\n",
    "matrix_1 = [[float(input(f\"Enter A{i+1}{j+1}: \")) for j in range(n)] for i in range(m)]\n",
    "\n",
    "print(\"Enter the elements of Matrix B\")\n",
    "p = int(input(\"Enter the number of rows for Matrix B: \"))\n",
    "q = int(input(\"Enter the number of columns for Matrix B: \"))\n",
    "matrix_2 = [[float(input(f\"Enter B{i+1}{j+1}: \")) for j in range(q)] for i in range(p)]\n",
    "\n",
    "if n == p:\n",
    "    result = [[0 for _ in range(q)] for _ in range(m)]\n",
    "    for i in range(m):\n",
    "        for j in range(q):\n",
    "            for k in range(n):\n",
    "                result[i][j] += matrix_1[i][k] * matrix_2[k][j]\n",
    "    print(\"Resultant Matrix:\")\n",
    "    for row in result:\n",
    "        print(row)\n",
    "else:\n",
    "    print(\"Number of columns in Matrix A should be equal to the number of rows in Matrix B for multiplication.\")\n"
   ]
  },
  {
   "cell_type": "code",
   "execution_count": 38,
   "id": "a3dd5dd4-17d9-450b-b248-1252969f7892",
   "metadata": {},
   "outputs": [
    {
     "name": "stdin",
     "output_type": "stream",
     "text": [
      "1.X 2.O:  x\n"
     ]
    },
    {
     "name": "stdout",
     "output_type": "stream",
     "text": [
      "User Turn\n"
     ]
    },
    {
     "name": "stdin",
     "output_type": "stream",
     "text": [
      "Enter the row index (0, 1, 2):  0\n",
      "Enter the column index (0, 1, 2):  2\n"
     ]
    },
    {
     "name": "stdout",
     "output_type": "stream",
     "text": [
      "  |   | X | \n",
      "  |   |   | \n",
      "  |   |   | \n",
      "-----------\n",
      "Computer's Turn\n",
      "User Turn\n"
     ]
    },
    {
     "name": "stdin",
     "output_type": "stream",
     "text": [
      "Enter the row index (0, 1, 2):  0\n",
      "Enter the column index (0, 1, 2):  0\n"
     ]
    },
    {
     "name": "stdout",
     "output_type": "stream",
     "text": [
      "X |   | X | \n",
      "  | O |   | \n",
      "  |   |   | \n",
      "-----------\n",
      "Computer's Turn\n",
      "User Turn\n"
     ]
    },
    {
     "name": "stdin",
     "output_type": "stream",
     "text": [
      "Enter the row index (0, 1, 2):  0\n",
      "Enter the column index (0, 1, 2):  1\n"
     ]
    },
    {
     "name": "stdout",
     "output_type": "stream",
     "text": [
      "Player Won\n"
     ]
    }
   ],
   "source": [
    "#Q32]\n",
    "import random\n",
    "\n",
    "matrix_game = [[None for _ in range(3)] for _ in range(3)]\n",
    "\n",
    "# Unpack rows\n",
    "row_1, row_2, row_3 = matrix_game\n",
    "\n",
    "# Unpack columns\n",
    "col_1, col_2, col_3 = [[matrix_game[i][j] for i in range(3)] for j in range(3)]\n",
    "\n",
    "# Unpack main diagonal (top-left to bottom-right)\n",
    "main_diagonal = [matrix_game[i][i] for i in range(3)]\n",
    "\n",
    "# Unpack secondary diagonal (top-right to bottom-left)\n",
    "secondary_diagonal = [matrix_game[i][2 - i] for i in range(3)]\n",
    "\n",
    "user_choice = input(\"1.X 2.O: \").upper()\n",
    "\n",
    "if user_choice in 'X O'.split():\n",
    "    if user_choice == 'X':\n",
    "        computer_choice = 'O'\n",
    "    elif user_choice == 'O':\n",
    "        computer_choice = 'X'\n",
    "\n",
    "    game_i = [0, 1, 2] * 3\n",
    "    game_j = [0, 1, 2] * 3\n",
    "    c = 0\n",
    "\n",
    "    while c != 9:\n",
    "        print(\"User Turn\")\n",
    "        user_i = int(input(\"Enter the row index (0, 1, 2): \"))\n",
    "        user_j = int(input(\"Enter the column index (0, 1, 2): \"))\n",
    "\n",
    "        if user_i in game_i and user_j in game_j:\n",
    "            game_i.remove(user_i)\n",
    "            game_j.remove(user_j)\n",
    "            matrix_game[user_i][user_j] = user_choice\n",
    "            c += 1\n",
    "\n",
    "            # Check for win condition after each move\n",
    "            if (row_1.count(user_choice) == 3 or row_2.count(user_choice) == 3 or row_3.count(user_choice) == 3 or\n",
    "                col_1.count(user_choice) == 3 or col_2.count(user_choice) == 3 or col_3.count(user_choice) == 3 or\n",
    "                main_diagonal.count(user_choice) == 3 or secondary_diagonal.count(user_choice) == 3):\n",
    "                print(\"Player Won\")\n",
    "                break\n",
    "            elif (row_1.count(computer_choice) == 3 or row_2.count(computer_choice) == 3 or row_3.count(computer_choice) == 3 or\n",
    "                  col_1.count(computer_choice) == 3 or col_2.count(computer_choice) == 3 or col_3.count(computer_choice) == 3 or\n",
    "                  main_diagonal.count(computer_choice) == 3 or secondary_diagonal.count(computer_choice) == 3):\n",
    "                print(\"Computer Won\")\n",
    "                break\n",
    "            else:\n",
    "                for row in matrix_game:\n",
    "                    for cell in row:\n",
    "                        print(\" \" if cell is None else cell, end=\" | \")\n",
    "                    print()\n",
    "                print(\"-\" * 11)\n",
    "\n",
    "            # Computer's turn\n",
    "            print(\"Computer's Turn\")\n",
    "            computer_i = random.choice(game_i)\n",
    "            computer_j = random.choice(game_j)\n",
    "            game_i.remove(computer_i)\n",
    "            game_j.remove(computer_j)\n",
    "            matrix_game[computer_i][computer_j] = computer_choice\n",
    "            c += 1\n",
    "\n",
    "        else:\n",
    "            print(f\"The Entered location already has {matrix_game[user_i][user_j]}\")\n",
    "\n",
    "else:\n",
    "    print(\"Invalid choice. Please enter either 1 or 2.\")\n"
   ]
  },
  {
   "cell_type": "code",
   "execution_count": 44,
   "id": "f1b1fdac-15fd-48a2-85a8-36402b16a29c",
   "metadata": {},
   "outputs": [
    {
     "name": "stdin",
     "output_type": "stream",
     "text": [
      "1.X 2.O:  o\n"
     ]
    },
    {
     "name": "stdout",
     "output_type": "stream",
     "text": [
      "User Turn\n"
     ]
    },
    {
     "name": "stdin",
     "output_type": "stream",
     "text": [
      "Enter the row index (0, 1, 2):  0\n",
      "Enter the column index (0, 1, 2):  0\n"
     ]
    },
    {
     "name": "stdout",
     "output_type": "stream",
     "text": [
      "O |   |  \n",
      "-----------\n",
      "  |   |  \n",
      "-----------\n",
      "  |   |  \n",
      "-----------\n",
      "Computer's Turn\n",
      "O |   |  \n",
      "-----------\n",
      "  | X |  \n",
      "-----------\n",
      "  |   |  \n",
      "-----------\n",
      "User Turn\n"
     ]
    },
    {
     "name": "stdin",
     "output_type": "stream",
     "text": [
      "Enter the row index (0, 1, 2):  1\n",
      "Enter the column index (0, 1, 2):  1\n"
     ]
    },
    {
     "name": "stdout",
     "output_type": "stream",
     "text": [
      "The Entered location already has a value.\n",
      "User Turn\n"
     ]
    },
    {
     "name": "stdin",
     "output_type": "stream",
     "text": [
      "Enter the row index (0, 1, 2):  1\n",
      "Enter the column index (0, 1, 2):  2\n"
     ]
    },
    {
     "name": "stdout",
     "output_type": "stream",
     "text": [
      "O |   |  \n",
      "-----------\n",
      "  | X | O\n",
      "-----------\n",
      "  |   |  \n",
      "-----------\n",
      "Computer's Turn\n",
      "O |   |  \n",
      "-----------\n",
      "  | X | O\n",
      "-----------\n",
      "X |   |  \n",
      "-----------\n",
      "User Turn\n"
     ]
    },
    {
     "name": "stdin",
     "output_type": "stream",
     "text": [
      "Enter the row index (0, 1, 2):  0\n",
      "Enter the column index (0, 1, 2):  2\n"
     ]
    },
    {
     "name": "stdout",
     "output_type": "stream",
     "text": [
      "O |   | O\n",
      "-----------\n",
      "  | X | O\n",
      "-----------\n",
      "X |   |  \n",
      "-----------\n",
      "Computer's Turn\n",
      "O |   | O\n",
      "-----------\n",
      "  | X | O\n",
      "-----------\n",
      "X |   |  \n",
      "-----------\n",
      "User Turn\n"
     ]
    },
    {
     "name": "stdin",
     "output_type": "stream",
     "text": [
      "Enter the row index (0, 1, 2):  0\n",
      "Enter the column index (0, 1, 2):  1\n"
     ]
    },
    {
     "name": "stdout",
     "output_type": "stream",
     "text": [
      "O | O | O\n",
      "-----------\n",
      "  | X | O\n",
      "-----------\n",
      "X |   |  \n",
      "-----------\n",
      "Player Won\n"
     ]
    }
   ],
   "source": [
    "import random\n",
    "\n",
    "matrix_game = [[None for _ in range(3)] for _ in range(3)]\n",
    "\n",
    "# Unpack rows\n",
    "row_1, row_2, row_3 = matrix_game\n",
    "\n",
    "# Unpack columns\n",
    "col_1, col_2, col_3 = [[matrix_game[i][j] for i in range(3)] for j in range(3)]\n",
    "\n",
    "# Unpack main diagonal (top-left to bottom-right)\n",
    "main_diagonal = [matrix_game[i][i] for i in range(3)]\n",
    "\n",
    "# Unpack secondary diagonal (top-right to bottom-left)\n",
    "secondary_diagonal = [matrix_game[i][2 - i] for i in range(3)]\n",
    "\n",
    "user_choice = input(\"1.X 2.O: \").upper()\n",
    "\n",
    "if user_choice in 'X O'.split():\n",
    "    if user_choice == 'X':\n",
    "        computer_choice = 'O'\n",
    "    elif user_choice == 'O':\n",
    "        computer_choice = 'X'\n",
    "\n",
    "    game_i = [0, 1, 2] * 3\n",
    "    game_j = [0, 1, 2] * 3\n",
    "    c = 0\n",
    "    game_over = False\n",
    "\n",
    "    while c != 9 and not game_over:\n",
    "        print(\"User Turn\")\n",
    "        user_i = int(input(\"Enter the row index (0, 1, 2): \"))\n",
    "        user_j = int(input(\"Enter the column index (0, 1, 2): \"))\n",
    "\n",
    "        if matrix_game[user_i][user_j] is None and matrix_game[user_i][user_j]!='X' and matrix_game[user_i][user_j]!='O' :\n",
    "            matrix_game[user_i][user_j] = user_choice\n",
    "            game_i.remove(user_i)\n",
    "            game_j.remove(user_j)\n",
    "            c += 1\n",
    "        else:\n",
    "            print(\"The Entered location already has a value.\")\n",
    "            continue\n",
    "\n",
    "        # Display the current state of the game\n",
    "        for row in matrix_game:\n",
    "            print(\" | \".join([x if x else \" \" for x in row]))\n",
    "            print(\"-\" * 11)\n",
    "\n",
    "        # Check for win conditions\n",
    "        if (row_1.count(user_choice) == 3 or row_2.count(user_choice) == 3 or row_3.count(user_choice) == 3 or\n",
    "                col_1.count(user_choice) == 3 or col_2.count(user_choice) == 3 or col_3.count(user_choice) == 3 or\n",
    "                main_diagonal.count(user_choice) == 3 or secondary_diagonal.count(user_choice) == 3):\n",
    "            print(\"Player Won\")\n",
    "            game_over = True\n",
    "            break\n",
    "\n",
    "        if c == 9:\n",
    "            print(\"It's a Tie\")\n",
    "            break\n",
    "\n",
    "        print(\"Computer's Turn\")\n",
    "        computer_i = random.choice(game_i)\n",
    "        computer_j = random.choice(game_j)\n",
    "        matrix_game[computer_i][computer_j] = computer_choice\n",
    "        game_i.remove(computer_i)\n",
    "        game_j.remove(computer_j)\n",
    "        c += 1\n",
    "\n",
    "        # Display the current state of the game\n",
    "        for row in matrix_game:\n",
    "            print(\" | \".join([x if x else \" \" for x in row]))\n",
    "            print(\"-\" * 11)\n",
    "\n",
    "        # Check for win conditions\n",
    "        if (row_1.count(computer_choice) == 3 or row_2.count(computer_choice) == 3 or\n",
    "                row_3.count(computer_choice) == 3 or col_1.count(computer_choice) == 3 or\n",
    "                col_2.count(computer_choice) == 3 or col_3.count(computer_choice) == 3 or\n",
    "                main_diagonal.count(computer_choice) == 3 or secondary_diagonal.count(computer_choice) == 3):\n",
    "            print(\"Computer Won\")\n",
    "            game_over = True\n",
    "            break\n",
    "\n",
    "else:\n",
    "    print(\"Invalid choice. Please enter either 1 or 2.\")\n"
   ]
  },
  {
   "cell_type": "code",
   "execution_count": 28,
   "id": "6042d3eb-803b-4fe6-a787-f005be590731",
   "metadata": {},
   "outputs": [
    {
     "name": "stdin",
     "output_type": "stream",
     "text": [
      "Enter the limit 8\n"
     ]
    },
    {
     "name": "stdout",
     "output_type": "stream",
     "text": [
      "8th Fib series :\n",
      "0 1 1 2 3 5 8 13 "
     ]
    }
   ],
   "source": [
    "#Q36]\n",
    "a,b = 0,1\n",
    "limit = int(input(\"Enter the limit\"))\n",
    "print(f\"{limit}th Fib series :\")\n",
    "for _ in range(limit):\n",
    "    print(a,end = \" \")\n",
    "    a,b=b,a+b\n",
    "    "
   ]
  },
  {
   "cell_type": "code",
   "execution_count": 32,
   "id": "14df392d-ea67-4d73-b8c3-907012cbef0a",
   "metadata": {},
   "outputs": [
    {
     "name": "stdin",
     "output_type": "stream",
     "text": [
      "Enter the number:  8\n"
     ]
    },
    {
     "name": "stdout",
     "output_type": "stream",
     "text": [
      "8th Term : 21\n"
     ]
    }
   ],
   "source": [
    "#Q37]\n",
    "def fib_memorisation(n, memo={}):\n",
    "    if n in memo:\n",
    "        return memo[n]\n",
    "    if n == 0:\n",
    "        return 0\n",
    "    elif n == 1:\n",
    "        return 1\n",
    "    else:\n",
    "        memo[n] = fib_memorisation(n - 1, memo) + fib_memorisation(n - 2, memo)\n",
    "        return memo[n]\n",
    "\n",
    "n = int(input(\"Enter the number: \"))\n",
    "print(f\"{n}th Term : {fib_memorisation(n)}\")\n"
   ]
  },
  {
   "cell_type": "code",
   "execution_count": 48,
   "id": "772ac54e-204c-49bf-a3a9-c09f5d4f5b3e",
   "metadata": {},
   "outputs": [
    {
     "name": "stdin",
     "output_type": "stream",
     "text": [
      "Enter the year:  2024\n",
      "Enter the month number you want days of:  3\n"
     ]
    },
    {
     "name": "stdout",
     "output_type": "stream",
     "text": [
      "2024 is a leap year\n",
      "31 Days\n",
      "1  Friday\n",
      "2  Saturday\n",
      "3  Sunday\n",
      "4  Monday\n",
      "5  Tuesday\n",
      "6  Wednesday\n",
      "7  Thursday\n",
      "8  Friday\n",
      "9  Saturday\n",
      "10  Sunday\n",
      "11  Monday\n",
      "12  Tuesday\n",
      "13  Wednesday\n",
      "14  Thursday\n",
      "15  Friday\n",
      "16  Saturday\n",
      "17  Sunday\n",
      "18  Monday\n",
      "19  Tuesday\n",
      "20  Wednesday\n",
      "21  Thursday\n",
      "22  Friday\n",
      "23  Saturday\n",
      "24  Sunday\n",
      "25  Monday\n",
      "26  Tuesday\n",
      "27  Wednesday\n",
      "28  Thursday\n",
      "29  Friday\n",
      "30  Saturday\n",
      "31  Sunday\n"
     ]
    }
   ],
   "source": [
    "#Q38]\n",
    "\n",
    "from datetime import datetime\n",
    "\n",
    "year = int(input(\"Enter the year: \"))\n",
    "month = int(input(\"Enter the month number you want days of: \"))\n",
    "days_of_week = [\"Monday\", \"Tuesday\", \"Wednesday\", \"Thursday\", \"Friday\", \"Saturday\", \"Sunday\"]\n",
    "\n",
    "# Checking if the year entered is valid or not\n",
    "if year > 0:\n",
    "    # Checking the condition for a leap year\n",
    "    year_leap = year % 4 == 0 and (year % 100 != 0 or year % 400 == 0)\n",
    "    if year_leap:\n",
    "        print(f\"{year} is a leap year\")\n",
    "    else:\n",
    "        print(f\"{year} is not a leap year\")\n",
    "\n",
    "    # Create a datetime object representing the first day of the specified month\n",
    "    date = datetime(year, month, 1)\n",
    "    day_of_week = date.weekday()\n",
    "\n",
    "    # Determine the number of days in the month\n",
    "    if month in [1, 3, 5, 7, 8, 10, 12]:\n",
    "        num_days = 31\n",
    "    elif month == 2 and year_leap:\n",
    "        num_days = 29\n",
    "    elif month == 2 and not year_leap:\n",
    "        num_days = 28\n",
    "    else:\n",
    "        num_days = 30\n",
    "\n",
    "    # Print the number of days and the days of the week\n",
    "    print(f\"{num_days} Days\")\n",
    "    for day in range(1, num_days + 1):\n",
    "        print(day, end=\"  \")\n",
    "        print(days_of_week[day_of_week%7])\n",
    "        day_of_week += 1\n",
    "\n",
    "else:\n",
    "    print(\"Enter a valid year\")\n"
   ]
  },
  {
   "cell_type": "code",
   "execution_count": null,
   "id": "274c7572-28dd-4454-b9b1-573cace0ff02",
   "metadata": {},
   "outputs": [],
   "source": [
    "#Q39]\n"
   ]
  },
  {
   "cell_type": "code",
   "execution_count": 50,
   "id": "ae7b3d7e-5fb4-4d8c-9169-dbe3b88741c6",
   "metadata": {},
   "outputs": [
    {
     "name": "stdin",
     "output_type": "stream",
     "text": [
      "Enter the number 8\n"
     ]
    },
    {
     "name": "stdout",
     "output_type": "stream",
     "text": [
      "8 is not a Prime Number\n"
     ]
    }
   ],
   "source": [
    "#40]\n",
    "import math\n",
    "num = int(input(\"Enter the number\"))\n",
    "if n<=1:\n",
    "    print(f\"{n} is not a Prime Number\")\n",
    "else:\n",
    "    for i in range(2,int(math.sqrt(n))+1):\n",
    "        if n%i==0:\n",
    "            print(f\"{n} is not a Prime Number\")\n",
    "            break\n",
    "    else:\n",
    "        print(f\"{n} is a Prime Number\") "
   ]
  },
  {
   "cell_type": "code",
   "execution_count": null,
   "id": "b7956a9b-3e8e-4e87-a096-8dfde4e58386",
   "metadata": {},
   "outputs": [],
   "source": []
  },
  {
   "cell_type": "code",
   "execution_count": null,
   "id": "a5489a05-98b7-4e6d-a46d-06b043377086",
   "metadata": {},
   "outputs": [],
   "source": []
  }
 ],
 "metadata": {
  "kernelspec": {
   "display_name": "Python 3 (ipykernel)",
   "language": "python",
   "name": "python3"
  },
  "language_info": {
   "codemirror_mode": {
    "name": "ipython",
    "version": 3
   },
   "file_extension": ".py",
   "mimetype": "text/x-python",
   "name": "python",
   "nbconvert_exporter": "python",
   "pygments_lexer": "ipython3",
   "version": "3.10.8"
  }
 },
 "nbformat": 4,
 "nbformat_minor": 5
}
